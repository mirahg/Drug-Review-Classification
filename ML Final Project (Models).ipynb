{
 "cells": [
  {
   "cell_type": "markdown",
   "id": "least-bones",
   "metadata": {},
   "source": [
    "# DS4400 Final Project - Models and Metrics\n",
    "## Mirah Gordon, Genny Jawor, Caterina Wang"
   ]
  },
  {
   "cell_type": "markdown",
   "id": "continuing-strength",
   "metadata": {},
   "source": [
    "This notebook is dedicated to splitting, training, and testing the data using six different machine learning models. It also contains metrics to evaluate the successes and/or failures of these models as well as visualizations of results and analysis. The **drugs_clean.csv** file loaded in and used here was derived from the **cleaning** notebook and can be saved from running that notebook or otherwise accessed by the link in the cell below."
   ]
  },
  {
   "cell_type": "markdown",
   "id": "hybrid-london",
   "metadata": {},
   "source": [
    "Shareable link for the csv to load in the dataset. <br>\n",
    "https://drive.google.com/file/d/1oczqQdNmKpjXpzi4ZjZOOem9JlRXmZAk/view?usp=sharing"
   ]
  },
  {
   "cell_type": "markdown",
   "id": "distant-federal",
   "metadata": {},
   "source": [
    "## Table of Contents\n",
    "### Pre-Processing\n",
    "* [Data Splitting](#Split)\n",
    "* [Normalization](#Norm)\n",
    "\n",
    "### Models\n",
    "* [Logistic Regression](#LR)\n",
    "* [Naive Bayes](#NB)\n",
    "* [Decision Tree](#DTC)\n",
    "* [Random Forest](#RFC)\n",
    "* [AdaBoost](#ABC)\n",
    "* [Multi Layer Perceptron](#MLP)\n",
    "\n",
    "### Visualizations\n",
    "* [Feature Importance](#FI)\n",
    "* [ROC Curves](#Curves)"
   ]
  },
  {
   "cell_type": "code",
   "execution_count": 1,
   "id": "current-doctor",
   "metadata": {},
   "outputs": [],
   "source": [
    "import pandas as pd\n",
    "import numpy as np\n",
    "\n",
    "# loading data\n",
    "preprocessed_data = pd.read_csv('preprocessed_data.csv')\n",
    "preprocessed_data_nb = pd.read_csv('preprocessed_data_nb.csv')\n",
    "preprocessed_data_binary = pd.read_csv('preprocessed_data_binary.csv')\n",
    "preprocessed_data_binary_nb = pd.read_csv('preprocessed_data_binary_nb.csv')"
   ]
  },
  {
   "cell_type": "markdown",
   "id": "empty-pierce",
   "metadata": {},
   "source": [
    "<a id='Split'></a>\n",
    "### Data Splitting"
   ]
  },
  {
   "cell_type": "code",
   "execution_count": 2,
   "id": "nonprofit-victor",
   "metadata": {},
   "outputs": [],
   "source": [
    "# split dataset into train and test\n",
    "from sklearn.model_selection import train_test_split\n",
    "\n",
    "# multi class split \n",
    "x_drug = preprocessed_data.drop('rating', axis=1)\n",
    "y_drug = preprocessed_data['rating']\n",
    "x_train, x_test, y_train, y_test = train_test_split(x_drug, y_drug, test_size=0.25)\n",
    "\n",
    "# multi class naive bayes split\n",
    "x_drug_nb = preprocessed_data_nb.drop('rating', axis=1)\n",
    "y_drug_nb = preprocessed_data_nb['rating']\n",
    "x_train_nb, x_test_nb, y_train_nb, y_test_nb = train_test_split(x_drug_nb, y_drug_nb, test_size=0.25, stratify=preprocessed_data_binary[[\"numericalDrugName\"]])\n",
    "\n",
    "# binary split \n",
    "x_drug_b = preprocessed_data_binary.drop('rating_binary', axis=1)\n",
    "y_drug_b = preprocessed_data_binary['rating_binary']\n",
    "x_train_binary, x_test_binary, y_train_binary, y_test_binary = train_test_split(x_drug_b, y_drug_b, test_size=0.25)\n",
    "\n",
    "# binary naive bayes split\n",
    "x_drug_nb_b = preprocessed_data_binary_nb.drop('rating_binary', axis=1)\n",
    "y_drug_nb_b = preprocessed_data_binary_nb['rating_binary']\n",
    "x_train_nb_b, x_test_nb_b, y_train_nb_b, y_test_nb_b = train_test_split(x_drug_nb_b, y_drug_nb_b, test_size=0.25, stratify=preprocessed_data_binary[[\"numericalDrugName\"]])"
   ]
  },
  {
   "cell_type": "markdown",
   "id": "leading-feedback",
   "metadata": {},
   "source": [
    "<a id='Norm'></a>\n",
    "### Normalization"
   ]
  },
  {
   "cell_type": "code",
   "execution_count": 3,
   "id": "provincial-posting",
   "metadata": {},
   "outputs": [
    {
     "name": "stderr",
     "output_type": "stream",
     "text": [
      "<ipython-input-3-e9effa239d4f>:28: SettingWithCopyWarning: \n",
      "A value is trying to be set on a copy of a slice from a DataFrame.\n",
      "Try using .loc[row_indexer,col_indexer] = value instead\n",
      "\n",
      "See the caveats in the documentation: https://pandas.pydata.org/pandas-docs/stable/user_guide/indexing.html#returning-a-view-versus-a-copy\n",
      "  x_train['usefulCount'] = useful_train\n",
      "<ipython-input-3-e9effa239d4f>:29: SettingWithCopyWarning: \n",
      "A value is trying to be set on a copy of a slice from a DataFrame.\n",
      "Try using .loc[row_indexer,col_indexer] = value instead\n",
      "\n",
      "See the caveats in the documentation: https://pandas.pydata.org/pandas-docs/stable/user_guide/indexing.html#returning-a-view-versus-a-copy\n",
      "  x_train['word_count'] = word_train\n",
      "<ipython-input-3-e9effa239d4f>:30: SettingWithCopyWarning: \n",
      "A value is trying to be set on a copy of a slice from a DataFrame.\n",
      "Try using .loc[row_indexer,col_indexer] = value instead\n",
      "\n",
      "See the caveats in the documentation: https://pandas.pydata.org/pandas-docs/stable/user_guide/indexing.html#returning-a-view-versus-a-copy\n",
      "  x_train['char_count'] = char_train\n",
      "<ipython-input-3-e9effa239d4f>:32: SettingWithCopyWarning: \n",
      "A value is trying to be set on a copy of a slice from a DataFrame.\n",
      "Try using .loc[row_indexer,col_indexer] = value instead\n",
      "\n",
      "See the caveats in the documentation: https://pandas.pydata.org/pandas-docs/stable/user_guide/indexing.html#returning-a-view-versus-a-copy\n",
      "  x_test['usefulCount'] = useful_test\n",
      "<ipython-input-3-e9effa239d4f>:33: SettingWithCopyWarning: \n",
      "A value is trying to be set on a copy of a slice from a DataFrame.\n",
      "Try using .loc[row_indexer,col_indexer] = value instead\n",
      "\n",
      "See the caveats in the documentation: https://pandas.pydata.org/pandas-docs/stable/user_guide/indexing.html#returning-a-view-versus-a-copy\n",
      "  x_test['word_count'] = word_test\n",
      "<ipython-input-3-e9effa239d4f>:34: SettingWithCopyWarning: \n",
      "A value is trying to be set on a copy of a slice from a DataFrame.\n",
      "Try using .loc[row_indexer,col_indexer] = value instead\n",
      "\n",
      "See the caveats in the documentation: https://pandas.pydata.org/pandas-docs/stable/user_guide/indexing.html#returning-a-view-versus-a-copy\n",
      "  x_test['char_count'] = char_test\n",
      "<ipython-input-3-e9effa239d4f>:36: SettingWithCopyWarning: \n",
      "A value is trying to be set on a copy of a slice from a DataFrame.\n",
      "Try using .loc[row_indexer,col_indexer] = value instead\n",
      "\n",
      "See the caveats in the documentation: https://pandas.pydata.org/pandas-docs/stable/user_guide/indexing.html#returning-a-view-versus-a-copy\n",
      "  x_train_binary['usefulCount'] = useful_train_b\n",
      "<ipython-input-3-e9effa239d4f>:37: SettingWithCopyWarning: \n",
      "A value is trying to be set on a copy of a slice from a DataFrame.\n",
      "Try using .loc[row_indexer,col_indexer] = value instead\n",
      "\n",
      "See the caveats in the documentation: https://pandas.pydata.org/pandas-docs/stable/user_guide/indexing.html#returning-a-view-versus-a-copy\n",
      "  x_train_binary['word_count'] = word_train_b\n",
      "<ipython-input-3-e9effa239d4f>:38: SettingWithCopyWarning: \n",
      "A value is trying to be set on a copy of a slice from a DataFrame.\n",
      "Try using .loc[row_indexer,col_indexer] = value instead\n",
      "\n",
      "See the caveats in the documentation: https://pandas.pydata.org/pandas-docs/stable/user_guide/indexing.html#returning-a-view-versus-a-copy\n",
      "  x_train_binary['char_count'] = char_train_b\n",
      "<ipython-input-3-e9effa239d4f>:40: SettingWithCopyWarning: \n",
      "A value is trying to be set on a copy of a slice from a DataFrame.\n",
      "Try using .loc[row_indexer,col_indexer] = value instead\n",
      "\n",
      "See the caveats in the documentation: https://pandas.pydata.org/pandas-docs/stable/user_guide/indexing.html#returning-a-view-versus-a-copy\n",
      "  x_test_binary['usefulCount'] = useful_test_b\n",
      "<ipython-input-3-e9effa239d4f>:41: SettingWithCopyWarning: \n",
      "A value is trying to be set on a copy of a slice from a DataFrame.\n",
      "Try using .loc[row_indexer,col_indexer] = value instead\n",
      "\n",
      "See the caveats in the documentation: https://pandas.pydata.org/pandas-docs/stable/user_guide/indexing.html#returning-a-view-versus-a-copy\n",
      "  x_test_binary['word_count'] = word_test_b\n",
      "<ipython-input-3-e9effa239d4f>:42: SettingWithCopyWarning: \n",
      "A value is trying to be set on a copy of a slice from a DataFrame.\n",
      "Try using .loc[row_indexer,col_indexer] = value instead\n",
      "\n",
      "See the caveats in the documentation: https://pandas.pydata.org/pandas-docs/stable/user_guide/indexing.html#returning-a-view-versus-a-copy\n",
      "  x_test_binary['char_count'] = char_test_b\n",
      "<ipython-input-3-e9effa239d4f>:44: SettingWithCopyWarning: \n",
      "A value is trying to be set on a copy of a slice from a DataFrame.\n",
      "Try using .loc[row_indexer,col_indexer] = value instead\n",
      "\n",
      "See the caveats in the documentation: https://pandas.pydata.org/pandas-docs/stable/user_guide/indexing.html#returning-a-view-versus-a-copy\n",
      "  x_train_nb['usefulCount'] = useful_train_nb\n",
      "<ipython-input-3-e9effa239d4f>:45: SettingWithCopyWarning: \n",
      "A value is trying to be set on a copy of a slice from a DataFrame.\n",
      "Try using .loc[row_indexer,col_indexer] = value instead\n",
      "\n",
      "See the caveats in the documentation: https://pandas.pydata.org/pandas-docs/stable/user_guide/indexing.html#returning-a-view-versus-a-copy\n",
      "  x_train_nb['word_count'] = word_train_nb\n",
      "<ipython-input-3-e9effa239d4f>:46: SettingWithCopyWarning: \n",
      "A value is trying to be set on a copy of a slice from a DataFrame.\n",
      "Try using .loc[row_indexer,col_indexer] = value instead\n",
      "\n",
      "See the caveats in the documentation: https://pandas.pydata.org/pandas-docs/stable/user_guide/indexing.html#returning-a-view-versus-a-copy\n",
      "  x_train_nb['char_count'] = char_train_nb\n",
      "<ipython-input-3-e9effa239d4f>:48: SettingWithCopyWarning: \n",
      "A value is trying to be set on a copy of a slice from a DataFrame.\n",
      "Try using .loc[row_indexer,col_indexer] = value instead\n",
      "\n",
      "See the caveats in the documentation: https://pandas.pydata.org/pandas-docs/stable/user_guide/indexing.html#returning-a-view-versus-a-copy\n",
      "  x_test_nb['usefulCount'] = useful_test_nb\n",
      "<ipython-input-3-e9effa239d4f>:49: SettingWithCopyWarning: \n",
      "A value is trying to be set on a copy of a slice from a DataFrame.\n",
      "Try using .loc[row_indexer,col_indexer] = value instead\n",
      "\n",
      "See the caveats in the documentation: https://pandas.pydata.org/pandas-docs/stable/user_guide/indexing.html#returning-a-view-versus-a-copy\n",
      "  x_test_nb['word_count'] = word_test_nb\n",
      "<ipython-input-3-e9effa239d4f>:50: SettingWithCopyWarning: \n",
      "A value is trying to be set on a copy of a slice from a DataFrame.\n",
      "Try using .loc[row_indexer,col_indexer] = value instead\n",
      "\n",
      "See the caveats in the documentation: https://pandas.pydata.org/pandas-docs/stable/user_guide/indexing.html#returning-a-view-versus-a-copy\n",
      "  x_test_nb['char_count'] = char_test_nb\n",
      "<ipython-input-3-e9effa239d4f>:52: SettingWithCopyWarning: \n",
      "A value is trying to be set on a copy of a slice from a DataFrame.\n",
      "Try using .loc[row_indexer,col_indexer] = value instead\n",
      "\n",
      "See the caveats in the documentation: https://pandas.pydata.org/pandas-docs/stable/user_guide/indexing.html#returning-a-view-versus-a-copy\n",
      "  x_train_nb_b['usefulCount'] = useful_train_nb_b\n",
      "<ipython-input-3-e9effa239d4f>:53: SettingWithCopyWarning: \n",
      "A value is trying to be set on a copy of a slice from a DataFrame.\n",
      "Try using .loc[row_indexer,col_indexer] = value instead\n",
      "\n",
      "See the caveats in the documentation: https://pandas.pydata.org/pandas-docs/stable/user_guide/indexing.html#returning-a-view-versus-a-copy\n",
      "  x_train_nb_b['word_count'] = word_train_nb_b\n",
      "<ipython-input-3-e9effa239d4f>:54: SettingWithCopyWarning: \n",
      "A value is trying to be set on a copy of a slice from a DataFrame.\n",
      "Try using .loc[row_indexer,col_indexer] = value instead\n",
      "\n",
      "See the caveats in the documentation: https://pandas.pydata.org/pandas-docs/stable/user_guide/indexing.html#returning-a-view-versus-a-copy\n",
      "  x_train_nb_b['char_count'] = char_train_nb_b\n",
      "<ipython-input-3-e9effa239d4f>:56: SettingWithCopyWarning: \n",
      "A value is trying to be set on a copy of a slice from a DataFrame.\n",
      "Try using .loc[row_indexer,col_indexer] = value instead\n",
      "\n",
      "See the caveats in the documentation: https://pandas.pydata.org/pandas-docs/stable/user_guide/indexing.html#returning-a-view-versus-a-copy\n",
      "  x_test_nb_b['usefulCount'] = useful_test_nb_b\n",
      "<ipython-input-3-e9effa239d4f>:57: SettingWithCopyWarning: \n",
      "A value is trying to be set on a copy of a slice from a DataFrame.\n",
      "Try using .loc[row_indexer,col_indexer] = value instead\n",
      "\n",
      "See the caveats in the documentation: https://pandas.pydata.org/pandas-docs/stable/user_guide/indexing.html#returning-a-view-versus-a-copy\n",
      "  x_test_nb_b['word_count'] = word_test_nb_b\n",
      "<ipython-input-3-e9effa239d4f>:58: SettingWithCopyWarning: \n",
      "A value is trying to be set on a copy of a slice from a DataFrame.\n",
      "Try using .loc[row_indexer,col_indexer] = value instead\n",
      "\n",
      "See the caveats in the documentation: https://pandas.pydata.org/pandas-docs/stable/user_guide/indexing.html#returning-a-view-versus-a-copy\n",
      "  x_test_nb_b['char_count'] = char_test_nb_b\n"
     ]
    }
   ],
   "source": [
    "from sklearn.preprocessing import StandardScaler, MinMaxScaler\n",
    "# For Normalizing the data in the other columns - turns raw data into z-scores\n",
    "# needs to be run on drugs['rating'] and drugs['usefulCount']\n",
    "\n",
    "def scale_numerical_data(train, test, scaler=\"standard\"):\n",
    "    col_names = ['usefulCount', 'word_count', 'char_count']\n",
    "    train_features = train[col_names]\n",
    "    test_features = test[col_names]\n",
    "    scaler = StandardScaler().fit(train_features.values)\n",
    "    train = scaler.transform(train_features.values)\n",
    "    test = scaler.transform(test_features.values)\n",
    "\n",
    "    useful_train = train[:,0]\n",
    "    word_train = train[:,1]\n",
    "    char_train = train[:, 2]\n",
    "\n",
    "    useful_test = test[:, 0]\n",
    "    word_test = test[:,1]\n",
    "    char_test = test[:, 2]\n",
    "\n",
    "    return useful_train, useful_test, word_train, word_test, char_train, char_test\n",
    "\n",
    "useful_train, useful_test, word_train, word_test, char_train, char_test = scale_numerical_data(x_train, x_test)\n",
    "useful_train_b, useful_test_b, word_train_b, word_test_b, char_train_b, char_test_b = scale_numerical_data(x_train_binary, x_test_binary)\n",
    "useful_train_nb, useful_test_nb, word_train_nb, word_test_nb, char_train_nb, char_test_nb = scale_numerical_data(x_train_nb, x_test_nb)\n",
    "useful_train_nb_b, useful_test_nb_b, word_train_nb_b, word_test_nb_b, char_train_nb_b, char_test_nb_b = scale_numerical_data(x_train_nb_b, x_test_nb_b)\n",
    "\n",
    "x_train['usefulCount'] = useful_train\n",
    "x_train['word_count'] = word_train\n",
    "x_train['char_count'] = char_train\n",
    "\n",
    "x_test['usefulCount'] = useful_test\n",
    "x_test['word_count'] = word_test\n",
    "x_test['char_count'] = char_test\n",
    "\n",
    "x_train_binary['usefulCount'] = useful_train_b\n",
    "x_train_binary['word_count'] = word_train_b\n",
    "x_train_binary['char_count'] = char_train_b\n",
    "\n",
    "x_test_binary['usefulCount'] = useful_test_b\n",
    "x_test_binary['word_count'] = word_test_b\n",
    "x_test_binary['char_count'] = char_test_b\n",
    "\n",
    "x_train_nb['usefulCount'] = useful_train_nb\n",
    "x_train_nb['word_count'] = word_train_nb\n",
    "x_train_nb['char_count'] = char_train_nb\n",
    "\n",
    "x_test_nb['usefulCount'] = useful_test_nb\n",
    "x_test_nb['word_count'] = word_test_nb\n",
    "x_test_nb['char_count'] = char_test_nb\n",
    "\n",
    "x_train_nb_b['usefulCount'] = useful_train_nb_b\n",
    "x_train_nb_b['word_count'] = word_train_nb_b\n",
    "x_train_nb_b['char_count'] = char_train_nb_b\n",
    "\n",
    "x_test_nb_b['usefulCount'] = useful_test_nb_b\n",
    "x_test_nb_b['word_count'] = word_test_nb_b\n",
    "x_test_nb_b['char_count'] = char_test_nb_b"
   ]
  },
  {
   "cell_type": "markdown",
   "id": "electrical-disabled",
   "metadata": {},
   "source": [
    "### Metrics"
   ]
  },
  {
   "cell_type": "code",
   "execution_count": 4,
   "id": "received-tanzania",
   "metadata": {},
   "outputs": [],
   "source": [
    "from sklearn.metrics import confusion_matrix, precision_score, recall_score, f1_score, accuracy_score, cohen_kappa_score, roc_auc_score"
   ]
  },
  {
   "cell_type": "code",
   "execution_count": 5,
   "id": "covered-carrier",
   "metadata": {},
   "outputs": [],
   "source": [
    "\"\"\"\n",
    "Function to print metrics for a given model and return metrics in a dataframe\n",
    "\"\"\"\n",
    "def print_metrics(x, y, model, model_name, multiclass=False):\n",
    "    # define columns for dataframe\n",
    "    if multiclass==True:\n",
    "        column_names = ['Accuracy', 'Error', 'F1 Score', 'Precision', 'Recall', 'Cohen Kappa']\n",
    "    else:\n",
    "        column_names = ['Accuracy', 'Error', 'F1 Score', 'AUC', 'Precision', 'Recall']\n",
    "    # create empty datafram to hold metrics \n",
    "    metrics = pd.DataFrame(columns=column_names)\n",
    "    \n",
    "    # predict y given x\n",
    "    pred = model.predict(x)\n",
    "    # calculate accuracy \n",
    "    accuracy = accuracy_score(y, pred)\n",
    "    # calculate f1\n",
    "    if multiclass==True:\n",
    "        f1 = f1_score(y, pred, average='micro')\n",
    "    else:\n",
    "        f1 = f1_score(y, pred)\n",
    "    # calculate auc\n",
    "    if multiclass==True:\n",
    "        pass\n",
    "    else:\n",
    "        auc = roc_auc_score(y, model.predict_proba(x)[:, 1], average='weighted', multi_class='ovr')\n",
    "    # calculate precision\n",
    "    precision = precision_score(y, pred, average='weighted', labels=np.unique(pred))\n",
    "    # calculate recall\n",
    "    recall = recall_score(y, pred, average='weighted')\n",
    "    # calculate cohen kappa \n",
    "    if multiclass==True:\n",
    "        c_kappa = cohen_kappa_score(y, pred)\n",
    "    else:\n",
    "        pass\n",
    "    \n",
    "    # add values to metrics\n",
    "    if multiclass==True:\n",
    "        metrics.loc[len(metrics.index)] = [accuracy, 1 - accuracy, f1, precision, recall, c_kappa]\n",
    "    else:\n",
    "        metrics.loc[len(metrics.index)] = [accuracy, 1 - accuracy, f1, auc, precision, recall]\n",
    "    \n",
    "    print(model_name)\n",
    "    display(metrics)"
   ]
  },
  {
   "cell_type": "markdown",
   "id": "occupational-millennium",
   "metadata": {},
   "source": [
    "<a id='LR'></a>\n",
    "### Logistic Regression"
   ]
  },
  {
   "cell_type": "code",
   "execution_count": 6,
   "id": "developmental-beijing",
   "metadata": {},
   "outputs": [],
   "source": [
    "from sklearn.linear_model import LogisticRegression"
   ]
  },
  {
   "cell_type": "code",
   "execution_count": 7,
   "id": "hidden-ticket",
   "metadata": {},
   "outputs": [
    {
     "name": "stdout",
     "output_type": "stream",
     "text": [
      "Logistic Regression: Training Data Multi Class\n"
     ]
    },
    {
     "data": {
      "text/html": [
       "<div>\n",
       "<style scoped>\n",
       "    .dataframe tbody tr th:only-of-type {\n",
       "        vertical-align: middle;\n",
       "    }\n",
       "\n",
       "    .dataframe tbody tr th {\n",
       "        vertical-align: top;\n",
       "    }\n",
       "\n",
       "    .dataframe thead th {\n",
       "        text-align: right;\n",
       "    }\n",
       "</style>\n",
       "<table border=\"1\" class=\"dataframe\">\n",
       "  <thead>\n",
       "    <tr style=\"text-align: right;\">\n",
       "      <th></th>\n",
       "      <th>Accuracy</th>\n",
       "      <th>Error</th>\n",
       "      <th>F1 Score</th>\n",
       "      <th>Precision</th>\n",
       "      <th>Recall</th>\n",
       "      <th>Cohen Kappa</th>\n",
       "    </tr>\n",
       "  </thead>\n",
       "  <tbody>\n",
       "    <tr>\n",
       "      <th>0</th>\n",
       "      <td>0.310341</td>\n",
       "      <td>0.689659</td>\n",
       "      <td>0.310341</td>\n",
       "      <td>0.225144</td>\n",
       "      <td>0.310341</td>\n",
       "      <td>0.100604</td>\n",
       "    </tr>\n",
       "  </tbody>\n",
       "</table>\n",
       "</div>"
      ],
      "text/plain": [
       "   Accuracy     Error  F1 Score  Precision    Recall  Cohen Kappa\n",
       "0  0.310341  0.689659  0.310341   0.225144  0.310341     0.100604"
      ]
     },
     "metadata": {},
     "output_type": "display_data"
    },
    {
     "name": "stdout",
     "output_type": "stream",
     "text": [
      "Logistic Regression: Testing Data Multi Class\n"
     ]
    },
    {
     "data": {
      "text/html": [
       "<div>\n",
       "<style scoped>\n",
       "    .dataframe tbody tr th:only-of-type {\n",
       "        vertical-align: middle;\n",
       "    }\n",
       "\n",
       "    .dataframe tbody tr th {\n",
       "        vertical-align: top;\n",
       "    }\n",
       "\n",
       "    .dataframe thead th {\n",
       "        text-align: right;\n",
       "    }\n",
       "</style>\n",
       "<table border=\"1\" class=\"dataframe\">\n",
       "  <thead>\n",
       "    <tr style=\"text-align: right;\">\n",
       "      <th></th>\n",
       "      <th>Accuracy</th>\n",
       "      <th>Error</th>\n",
       "      <th>F1 Score</th>\n",
       "      <th>Precision</th>\n",
       "      <th>Recall</th>\n",
       "      <th>Cohen Kappa</th>\n",
       "    </tr>\n",
       "  </thead>\n",
       "  <tbody>\n",
       "    <tr>\n",
       "      <th>0</th>\n",
       "      <td>0.312482</td>\n",
       "      <td>0.687518</td>\n",
       "      <td>0.312482</td>\n",
       "      <td>0.421005</td>\n",
       "      <td>0.312482</td>\n",
       "      <td>0.102479</td>\n",
       "    </tr>\n",
       "  </tbody>\n",
       "</table>\n",
       "</div>"
      ],
      "text/plain": [
       "   Accuracy     Error  F1 Score  Precision    Recall  Cohen Kappa\n",
       "0  0.312482  0.687518  0.312482   0.421005  0.312482     0.102479"
      ]
     },
     "metadata": {},
     "output_type": "display_data"
    }
   ],
   "source": [
    "# multi class logistic regression\n",
    "logistic_reg_multi = LogisticRegression(max_iter=10000, solver='sag', multi_class='multinomial')\n",
    "logistic_reg_multi.fit(x_train, y_train)\n",
    "\n",
    "print_metrics(x_train, y_train, logistic_reg_multi, \"Logistic Regression: Training Data Multi Class\", multiclass=True)\n",
    "print_metrics(x_test, y_test, logistic_reg_multi, \"Logistic Regression: Testing Data Multi Class\", multiclass=True)"
   ]
  },
  {
   "cell_type": "code",
   "execution_count": 8,
   "id": "delayed-alberta",
   "metadata": {},
   "outputs": [
    {
     "name": "stdout",
     "output_type": "stream",
     "text": [
      "Logistic Regression: Training Data Binary\n"
     ]
    },
    {
     "data": {
      "text/html": [
       "<div>\n",
       "<style scoped>\n",
       "    .dataframe tbody tr th:only-of-type {\n",
       "        vertical-align: middle;\n",
       "    }\n",
       "\n",
       "    .dataframe tbody tr th {\n",
       "        vertical-align: top;\n",
       "    }\n",
       "\n",
       "    .dataframe thead th {\n",
       "        text-align: right;\n",
       "    }\n",
       "</style>\n",
       "<table border=\"1\" class=\"dataframe\">\n",
       "  <thead>\n",
       "    <tr style=\"text-align: right;\">\n",
       "      <th></th>\n",
       "      <th>Accuracy</th>\n",
       "      <th>Error</th>\n",
       "      <th>F1 Score</th>\n",
       "      <th>AUC</th>\n",
       "      <th>Precision</th>\n",
       "      <th>Recall</th>\n",
       "    </tr>\n",
       "  </thead>\n",
       "  <tbody>\n",
       "    <tr>\n",
       "      <th>0</th>\n",
       "      <td>0.723722</td>\n",
       "      <td>0.276278</td>\n",
       "      <td>0.810622</td>\n",
       "      <td>0.74146</td>\n",
       "      <td>0.70803</td>\n",
       "      <td>0.723722</td>\n",
       "    </tr>\n",
       "  </tbody>\n",
       "</table>\n",
       "</div>"
      ],
      "text/plain": [
       "   Accuracy     Error  F1 Score      AUC  Precision    Recall\n",
       "0  0.723722  0.276278  0.810622  0.74146    0.70803  0.723722"
      ]
     },
     "metadata": {},
     "output_type": "display_data"
    },
    {
     "name": "stdout",
     "output_type": "stream",
     "text": [
      "Logistic Regression: Testing Data Binary\n"
     ]
    },
    {
     "data": {
      "text/html": [
       "<div>\n",
       "<style scoped>\n",
       "    .dataframe tbody tr th:only-of-type {\n",
       "        vertical-align: middle;\n",
       "    }\n",
       "\n",
       "    .dataframe tbody tr th {\n",
       "        vertical-align: top;\n",
       "    }\n",
       "\n",
       "    .dataframe thead th {\n",
       "        text-align: right;\n",
       "    }\n",
       "</style>\n",
       "<table border=\"1\" class=\"dataframe\">\n",
       "  <thead>\n",
       "    <tr style=\"text-align: right;\">\n",
       "      <th></th>\n",
       "      <th>Accuracy</th>\n",
       "      <th>Error</th>\n",
       "      <th>F1 Score</th>\n",
       "      <th>AUC</th>\n",
       "      <th>Precision</th>\n",
       "      <th>Recall</th>\n",
       "    </tr>\n",
       "  </thead>\n",
       "  <tbody>\n",
       "    <tr>\n",
       "      <th>0</th>\n",
       "      <td>0.718226</td>\n",
       "      <td>0.281774</td>\n",
       "      <td>0.806464</td>\n",
       "      <td>0.735931</td>\n",
       "      <td>0.702297</td>\n",
       "      <td>0.718226</td>\n",
       "    </tr>\n",
       "  </tbody>\n",
       "</table>\n",
       "</div>"
      ],
      "text/plain": [
       "   Accuracy     Error  F1 Score       AUC  Precision    Recall\n",
       "0  0.718226  0.281774  0.806464  0.735931   0.702297  0.718226"
      ]
     },
     "metadata": {},
     "output_type": "display_data"
    }
   ],
   "source": [
    "# multi class logistic regression\n",
    "logistic_reg_binary = LogisticRegression(max_iter=10000, solver='sag')\n",
    "logistic_reg_binary.fit(x_train_binary, y_train_binary)\n",
    "\n",
    "print_metrics(x_train_binary, y_train_binary, logistic_reg_binary, \"Logistic Regression: Training Data Binary\")\n",
    "print_metrics(x_test_binary, y_test_binary, logistic_reg_binary, \"Logistic Regression: Testing Data Binary\")"
   ]
  },
  {
   "cell_type": "markdown",
   "id": "unable-nebraska",
   "metadata": {},
   "source": [
    "<a id='NB'></a>\n",
    "### Naive Bayes"
   ]
  },
  {
   "cell_type": "code",
   "execution_count": 9,
   "id": "south-carroll",
   "metadata": {},
   "outputs": [],
   "source": [
    "from mixed_naive_bayes import MixedNB"
   ]
  },
  {
   "cell_type": "code",
   "execution_count": 10,
   "id": "intense-bracket",
   "metadata": {},
   "outputs": [
    {
     "name": "stdout",
     "output_type": "stream",
     "text": [
      "[  3  10 694]\n",
      "Naive Bayes: Training Data Multi Class\n"
     ]
    },
    {
     "data": {
      "text/html": [
       "<div>\n",
       "<style scoped>\n",
       "    .dataframe tbody tr th:only-of-type {\n",
       "        vertical-align: middle;\n",
       "    }\n",
       "\n",
       "    .dataframe tbody tr th {\n",
       "        vertical-align: top;\n",
       "    }\n",
       "\n",
       "    .dataframe thead th {\n",
       "        text-align: right;\n",
       "    }\n",
       "</style>\n",
       "<table border=\"1\" class=\"dataframe\">\n",
       "  <thead>\n",
       "    <tr style=\"text-align: right;\">\n",
       "      <th></th>\n",
       "      <th>Accuracy</th>\n",
       "      <th>Error</th>\n",
       "      <th>F1 Score</th>\n",
       "      <th>Precision</th>\n",
       "      <th>Recall</th>\n",
       "      <th>Cohen Kappa</th>\n",
       "    </tr>\n",
       "  </thead>\n",
       "  <tbody>\n",
       "    <tr>\n",
       "      <th>0</th>\n",
       "      <td>0.29314</td>\n",
       "      <td>0.70686</td>\n",
       "      <td>0.29314</td>\n",
       "      <td>0.27387</td>\n",
       "      <td>0.29314</td>\n",
       "      <td>0.141705</td>\n",
       "    </tr>\n",
       "  </tbody>\n",
       "</table>\n",
       "</div>"
      ],
      "text/plain": [
       "   Accuracy    Error  F1 Score  Precision   Recall  Cohen Kappa\n",
       "0   0.29314  0.70686   0.29314    0.27387  0.29314     0.141705"
      ]
     },
     "metadata": {},
     "output_type": "display_data"
    },
    {
     "name": "stdout",
     "output_type": "stream",
     "text": [
      "Naive Bayes: Testing Data Multi Class\n"
     ]
    },
    {
     "data": {
      "text/html": [
       "<div>\n",
       "<style scoped>\n",
       "    .dataframe tbody tr th:only-of-type {\n",
       "        vertical-align: middle;\n",
       "    }\n",
       "\n",
       "    .dataframe tbody tr th {\n",
       "        vertical-align: top;\n",
       "    }\n",
       "\n",
       "    .dataframe thead th {\n",
       "        text-align: right;\n",
       "    }\n",
       "</style>\n",
       "<table border=\"1\" class=\"dataframe\">\n",
       "  <thead>\n",
       "    <tr style=\"text-align: right;\">\n",
       "      <th></th>\n",
       "      <th>Accuracy</th>\n",
       "      <th>Error</th>\n",
       "      <th>F1 Score</th>\n",
       "      <th>Precision</th>\n",
       "      <th>Recall</th>\n",
       "      <th>Cohen Kappa</th>\n",
       "    </tr>\n",
       "  </thead>\n",
       "  <tbody>\n",
       "    <tr>\n",
       "      <th>0</th>\n",
       "      <td>0.285668</td>\n",
       "      <td>0.714332</td>\n",
       "      <td>0.285668</td>\n",
       "      <td>0.233687</td>\n",
       "      <td>0.285668</td>\n",
       "      <td>0.130574</td>\n",
       "    </tr>\n",
       "  </tbody>\n",
       "</table>\n",
       "</div>"
      ],
      "text/plain": [
       "   Accuracy     Error  F1 Score  Precision    Recall  Cohen Kappa\n",
       "0  0.285668  0.714332  0.285668   0.233687  0.285668     0.130574"
      ]
     },
     "metadata": {},
     "output_type": "display_data"
    }
   ],
   "source": [
    "# multi class naive bayes\n",
    "nb_multi = MixedNB(categorical_features=[1,4,5])\n",
    "nb_multi.fit(x_train_nb, y_train_nb)\n",
    "\n",
    "print_metrics(x_train_nb, y_train_nb, nb_multi, \"Naive Bayes: Training Data Multi Class\", multiclass=True)\n",
    "print_metrics(x_test_nb, y_test_nb, nb_multi, \"Naive Bayes: Testing Data Multi Class\", multiclass=True)"
   ]
  },
  {
   "cell_type": "code",
   "execution_count": 11,
   "id": "capable-training",
   "metadata": {},
   "outputs": [
    {
     "name": "stdout",
     "output_type": "stream",
     "text": [
      "[  3  10 694]\n",
      "Naive Bayes: Training Data Binary\n"
     ]
    },
    {
     "data": {
      "text/html": [
       "<div>\n",
       "<style scoped>\n",
       "    .dataframe tbody tr th:only-of-type {\n",
       "        vertical-align: middle;\n",
       "    }\n",
       "\n",
       "    .dataframe tbody tr th {\n",
       "        vertical-align: top;\n",
       "    }\n",
       "\n",
       "    .dataframe thead th {\n",
       "        text-align: right;\n",
       "    }\n",
       "</style>\n",
       "<table border=\"1\" class=\"dataframe\">\n",
       "  <thead>\n",
       "    <tr style=\"text-align: right;\">\n",
       "      <th></th>\n",
       "      <th>Accuracy</th>\n",
       "      <th>Error</th>\n",
       "      <th>F1 Score</th>\n",
       "      <th>AUC</th>\n",
       "      <th>Precision</th>\n",
       "      <th>Recall</th>\n",
       "    </tr>\n",
       "  </thead>\n",
       "  <tbody>\n",
       "    <tr>\n",
       "      <th>0</th>\n",
       "      <td>0.667861</td>\n",
       "      <td>0.332139</td>\n",
       "      <td>0.731051</td>\n",
       "      <td>0.6552</td>\n",
       "      <td>0.715542</td>\n",
       "      <td>0.667861</td>\n",
       "    </tr>\n",
       "  </tbody>\n",
       "</table>\n",
       "</div>"
      ],
      "text/plain": [
       "   Accuracy     Error  F1 Score     AUC  Precision    Recall\n",
       "0  0.667861  0.332139  0.731051  0.6552   0.715542  0.667861"
      ]
     },
     "metadata": {},
     "output_type": "display_data"
    },
    {
     "name": "stdout",
     "output_type": "stream",
     "text": [
      "Naive Bayes: Testing Data Binary\n"
     ]
    },
    {
     "data": {
      "text/html": [
       "<div>\n",
       "<style scoped>\n",
       "    .dataframe tbody tr th:only-of-type {\n",
       "        vertical-align: middle;\n",
       "    }\n",
       "\n",
       "    .dataframe tbody tr th {\n",
       "        vertical-align: top;\n",
       "    }\n",
       "\n",
       "    .dataframe thead th {\n",
       "        text-align: right;\n",
       "    }\n",
       "</style>\n",
       "<table border=\"1\" class=\"dataframe\">\n",
       "  <thead>\n",
       "    <tr style=\"text-align: right;\">\n",
       "      <th></th>\n",
       "      <th>Accuracy</th>\n",
       "      <th>Error</th>\n",
       "      <th>F1 Score</th>\n",
       "      <th>AUC</th>\n",
       "      <th>Precision</th>\n",
       "      <th>Recall</th>\n",
       "    </tr>\n",
       "  </thead>\n",
       "  <tbody>\n",
       "    <tr>\n",
       "      <th>0</th>\n",
       "      <td>0.664233</td>\n",
       "      <td>0.335767</td>\n",
       "      <td>0.729413</td>\n",
       "      <td>0.65517</td>\n",
       "      <td>0.714104</td>\n",
       "      <td>0.664233</td>\n",
       "    </tr>\n",
       "  </tbody>\n",
       "</table>\n",
       "</div>"
      ],
      "text/plain": [
       "   Accuracy     Error  F1 Score      AUC  Precision    Recall\n",
       "0  0.664233  0.335767  0.729413  0.65517   0.714104  0.664233"
      ]
     },
     "metadata": {},
     "output_type": "display_data"
    }
   ],
   "source": [
    "# binary naive bayes\n",
    "nb_binary = MixedNB(categorical_features=[1,4,5])\n",
    "nb_binary.fit(x_train_nb_b, y_train_nb_b)\n",
    "\n",
    "print_metrics(x_train_nb_b, y_train_nb_b, nb_binary, \"Naive Bayes: Training Data Binary\")\n",
    "print_metrics(x_test_nb_b, y_test_nb_b, nb_binary, \"Naive Bayes: Testing Data Binary\")"
   ]
  },
  {
   "cell_type": "markdown",
   "id": "angry-backup",
   "metadata": {},
   "source": [
    "<a id='DTC'></a>\n",
    "### Decision Tree Classifier"
   ]
  },
  {
   "cell_type": "code",
   "execution_count": 12,
   "id": "cooked-windsor",
   "metadata": {},
   "outputs": [],
   "source": [
    "from sklearn.tree import DecisionTreeClassifier as DTC"
   ]
  },
  {
   "cell_type": "code",
   "execution_count": 13,
   "id": "contemporary-cannon",
   "metadata": {},
   "outputs": [
    {
     "name": "stdout",
     "output_type": "stream",
     "text": [
      "Decision Tree: Training Data Multi Class gini split\n"
     ]
    },
    {
     "data": {
      "text/html": [
       "<div>\n",
       "<style scoped>\n",
       "    .dataframe tbody tr th:only-of-type {\n",
       "        vertical-align: middle;\n",
       "    }\n",
       "\n",
       "    .dataframe tbody tr th {\n",
       "        vertical-align: top;\n",
       "    }\n",
       "\n",
       "    .dataframe thead th {\n",
       "        text-align: right;\n",
       "    }\n",
       "</style>\n",
       "<table border=\"1\" class=\"dataframe\">\n",
       "  <thead>\n",
       "    <tr style=\"text-align: right;\">\n",
       "      <th></th>\n",
       "      <th>Accuracy</th>\n",
       "      <th>Error</th>\n",
       "      <th>F1 Score</th>\n",
       "      <th>Precision</th>\n",
       "      <th>Recall</th>\n",
       "      <th>Cohen Kappa</th>\n",
       "    </tr>\n",
       "  </thead>\n",
       "  <tbody>\n",
       "    <tr>\n",
       "      <th>0</th>\n",
       "      <td>0.998026</td>\n",
       "      <td>0.001974</td>\n",
       "      <td>0.998026</td>\n",
       "      <td>0.998031</td>\n",
       "      <td>0.998026</td>\n",
       "      <td>0.997662</td>\n",
       "    </tr>\n",
       "  </tbody>\n",
       "</table>\n",
       "</div>"
      ],
      "text/plain": [
       "   Accuracy     Error  F1 Score  Precision    Recall  Cohen Kappa\n",
       "0  0.998026  0.001974  0.998026   0.998031  0.998026     0.997662"
      ]
     },
     "metadata": {},
     "output_type": "display_data"
    },
    {
     "name": "stdout",
     "output_type": "stream",
     "text": [
      "Decision Tree: Testing Data Multi Class gini split\n"
     ]
    },
    {
     "data": {
      "text/html": [
       "<div>\n",
       "<style scoped>\n",
       "    .dataframe tbody tr th:only-of-type {\n",
       "        vertical-align: middle;\n",
       "    }\n",
       "\n",
       "    .dataframe tbody tr th {\n",
       "        vertical-align: top;\n",
       "    }\n",
       "\n",
       "    .dataframe thead th {\n",
       "        text-align: right;\n",
       "    }\n",
       "</style>\n",
       "<table border=\"1\" class=\"dataframe\">\n",
       "  <thead>\n",
       "    <tr style=\"text-align: right;\">\n",
       "      <th></th>\n",
       "      <th>Accuracy</th>\n",
       "      <th>Error</th>\n",
       "      <th>F1 Score</th>\n",
       "      <th>Precision</th>\n",
       "      <th>Recall</th>\n",
       "      <th>Cohen Kappa</th>\n",
       "    </tr>\n",
       "  </thead>\n",
       "  <tbody>\n",
       "    <tr>\n",
       "      <th>0</th>\n",
       "      <td>0.396901</td>\n",
       "      <td>0.603099</td>\n",
       "      <td>0.396901</td>\n",
       "      <td>0.398684</td>\n",
       "      <td>0.396901</td>\n",
       "      <td>0.286589</td>\n",
       "    </tr>\n",
       "  </tbody>\n",
       "</table>\n",
       "</div>"
      ],
      "text/plain": [
       "   Accuracy     Error  F1 Score  Precision    Recall  Cohen Kappa\n",
       "0  0.396901  0.603099  0.396901   0.398684  0.396901     0.286589"
      ]
     },
     "metadata": {},
     "output_type": "display_data"
    },
    {
     "name": "stdout",
     "output_type": "stream",
     "text": [
      "Decision Tree: Training Data Multi Class entropy split\n"
     ]
    },
    {
     "data": {
      "text/html": [
       "<div>\n",
       "<style scoped>\n",
       "    .dataframe tbody tr th:only-of-type {\n",
       "        vertical-align: middle;\n",
       "    }\n",
       "\n",
       "    .dataframe tbody tr th {\n",
       "        vertical-align: top;\n",
       "    }\n",
       "\n",
       "    .dataframe thead th {\n",
       "        text-align: right;\n",
       "    }\n",
       "</style>\n",
       "<table border=\"1\" class=\"dataframe\">\n",
       "  <thead>\n",
       "    <tr style=\"text-align: right;\">\n",
       "      <th></th>\n",
       "      <th>Accuracy</th>\n",
       "      <th>Error</th>\n",
       "      <th>F1 Score</th>\n",
       "      <th>Precision</th>\n",
       "      <th>Recall</th>\n",
       "      <th>Cohen Kappa</th>\n",
       "    </tr>\n",
       "  </thead>\n",
       "  <tbody>\n",
       "    <tr>\n",
       "      <th>0</th>\n",
       "      <td>0.998026</td>\n",
       "      <td>0.001974</td>\n",
       "      <td>0.998026</td>\n",
       "      <td>0.998031</td>\n",
       "      <td>0.998026</td>\n",
       "      <td>0.997662</td>\n",
       "    </tr>\n",
       "  </tbody>\n",
       "</table>\n",
       "</div>"
      ],
      "text/plain": [
       "   Accuracy     Error  F1 Score  Precision    Recall  Cohen Kappa\n",
       "0  0.998026  0.001974  0.998026   0.998031  0.998026     0.997662"
      ]
     },
     "metadata": {},
     "output_type": "display_data"
    },
    {
     "name": "stdout",
     "output_type": "stream",
     "text": [
      "Decision Tree: Testing Data Multi Class entropy split\n"
     ]
    },
    {
     "data": {
      "text/html": [
       "<div>\n",
       "<style scoped>\n",
       "    .dataframe tbody tr th:only-of-type {\n",
       "        vertical-align: middle;\n",
       "    }\n",
       "\n",
       "    .dataframe tbody tr th {\n",
       "        vertical-align: top;\n",
       "    }\n",
       "\n",
       "    .dataframe thead th {\n",
       "        text-align: right;\n",
       "    }\n",
       "</style>\n",
       "<table border=\"1\" class=\"dataframe\">\n",
       "  <thead>\n",
       "    <tr style=\"text-align: right;\">\n",
       "      <th></th>\n",
       "      <th>Accuracy</th>\n",
       "      <th>Error</th>\n",
       "      <th>F1 Score</th>\n",
       "      <th>Precision</th>\n",
       "      <th>Recall</th>\n",
       "      <th>Cohen Kappa</th>\n",
       "    </tr>\n",
       "  </thead>\n",
       "  <tbody>\n",
       "    <tr>\n",
       "      <th>0</th>\n",
       "      <td>0.44627</td>\n",
       "      <td>0.55373</td>\n",
       "      <td>0.44627</td>\n",
       "      <td>0.448533</td>\n",
       "      <td>0.44627</td>\n",
       "      <td>0.345469</td>\n",
       "    </tr>\n",
       "  </tbody>\n",
       "</table>\n",
       "</div>"
      ],
      "text/plain": [
       "   Accuracy    Error  F1 Score  Precision   Recall  Cohen Kappa\n",
       "0   0.44627  0.55373   0.44627   0.448533  0.44627     0.345469"
      ]
     },
     "metadata": {},
     "output_type": "display_data"
    }
   ],
   "source": [
    "# multi class decision tree\n",
    "for split in ['gini', 'entropy']:\n",
    "    tree = DTC(random_state=0, criterion=split)\n",
    "    tree.fit(x_train, y_train)\n",
    "    print_metrics(x_train, y_train, tree, \"Decision Tree: Training Data Multi Class \" + split +  \" split\", multiclass=True)\n",
    "    print_metrics(x_test, y_test, tree, \"Decision Tree: Testing Data Multi Class \" + split + \" split\", multiclass=True)"
   ]
  },
  {
   "cell_type": "code",
   "execution_count": 14,
   "id": "level-portugal",
   "metadata": {},
   "outputs": [
    {
     "name": "stdout",
     "output_type": "stream",
     "text": [
      "Decision Tree: Training Data Binary gini split\n"
     ]
    },
    {
     "data": {
      "text/html": [
       "<div>\n",
       "<style scoped>\n",
       "    .dataframe tbody tr th:only-of-type {\n",
       "        vertical-align: middle;\n",
       "    }\n",
       "\n",
       "    .dataframe tbody tr th {\n",
       "        vertical-align: top;\n",
       "    }\n",
       "\n",
       "    .dataframe thead th {\n",
       "        text-align: right;\n",
       "    }\n",
       "</style>\n",
       "<table border=\"1\" class=\"dataframe\">\n",
       "  <thead>\n",
       "    <tr style=\"text-align: right;\">\n",
       "      <th></th>\n",
       "      <th>Accuracy</th>\n",
       "      <th>Error</th>\n",
       "      <th>F1 Score</th>\n",
       "      <th>AUC</th>\n",
       "      <th>Precision</th>\n",
       "      <th>Recall</th>\n",
       "    </tr>\n",
       "  </thead>\n",
       "  <tbody>\n",
       "    <tr>\n",
       "      <th>0</th>\n",
       "      <td>0.998999</td>\n",
       "      <td>0.001001</td>\n",
       "      <td>0.999272</td>\n",
       "      <td>0.999998</td>\n",
       "      <td>0.999003</td>\n",
       "      <td>0.998999</td>\n",
       "    </tr>\n",
       "  </tbody>\n",
       "</table>\n",
       "</div>"
      ],
      "text/plain": [
       "   Accuracy     Error  F1 Score       AUC  Precision    Recall\n",
       "0  0.998999  0.001001  0.999272  0.999998   0.999003  0.998999"
      ]
     },
     "metadata": {},
     "output_type": "display_data"
    },
    {
     "name": "stdout",
     "output_type": "stream",
     "text": [
      "Decision Tree: Testing Data Binary gini split\n"
     ]
    },
    {
     "data": {
      "text/html": [
       "<div>\n",
       "<style scoped>\n",
       "    .dataframe tbody tr th:only-of-type {\n",
       "        vertical-align: middle;\n",
       "    }\n",
       "\n",
       "    .dataframe tbody tr th {\n",
       "        vertical-align: top;\n",
       "    }\n",
       "\n",
       "    .dataframe thead th {\n",
       "        text-align: right;\n",
       "    }\n",
       "</style>\n",
       "<table border=\"1\" class=\"dataframe\">\n",
       "  <thead>\n",
       "    <tr style=\"text-align: right;\">\n",
       "      <th></th>\n",
       "      <th>Accuracy</th>\n",
       "      <th>Error</th>\n",
       "      <th>F1 Score</th>\n",
       "      <th>AUC</th>\n",
       "      <th>Precision</th>\n",
       "      <th>Recall</th>\n",
       "    </tr>\n",
       "  </thead>\n",
       "  <tbody>\n",
       "    <tr>\n",
       "      <th>0</th>\n",
       "      <td>0.706543</td>\n",
       "      <td>0.293457</td>\n",
       "      <td>0.784548</td>\n",
       "      <td>0.66433</td>\n",
       "      <td>0.710254</td>\n",
       "      <td>0.706543</td>\n",
       "    </tr>\n",
       "  </tbody>\n",
       "</table>\n",
       "</div>"
      ],
      "text/plain": [
       "   Accuracy     Error  F1 Score      AUC  Precision    Recall\n",
       "0  0.706543  0.293457  0.784548  0.66433   0.710254  0.706543"
      ]
     },
     "metadata": {},
     "output_type": "display_data"
    },
    {
     "name": "stdout",
     "output_type": "stream",
     "text": [
      "Decision Tree: Training Data Binary entropy split\n"
     ]
    },
    {
     "data": {
      "text/html": [
       "<div>\n",
       "<style scoped>\n",
       "    .dataframe tbody tr th:only-of-type {\n",
       "        vertical-align: middle;\n",
       "    }\n",
       "\n",
       "    .dataframe tbody tr th {\n",
       "        vertical-align: top;\n",
       "    }\n",
       "\n",
       "    .dataframe thead th {\n",
       "        text-align: right;\n",
       "    }\n",
       "</style>\n",
       "<table border=\"1\" class=\"dataframe\">\n",
       "  <thead>\n",
       "    <tr style=\"text-align: right;\">\n",
       "      <th></th>\n",
       "      <th>Accuracy</th>\n",
       "      <th>Error</th>\n",
       "      <th>F1 Score</th>\n",
       "      <th>AUC</th>\n",
       "      <th>Precision</th>\n",
       "      <th>Recall</th>\n",
       "    </tr>\n",
       "  </thead>\n",
       "  <tbody>\n",
       "    <tr>\n",
       "      <th>0</th>\n",
       "      <td>0.998999</td>\n",
       "      <td>0.001001</td>\n",
       "      <td>0.999272</td>\n",
       "      <td>0.999998</td>\n",
       "      <td>0.999003</td>\n",
       "      <td>0.998999</td>\n",
       "    </tr>\n",
       "  </tbody>\n",
       "</table>\n",
       "</div>"
      ],
      "text/plain": [
       "   Accuracy     Error  F1 Score       AUC  Precision    Recall\n",
       "0  0.998999  0.001001  0.999272  0.999998   0.999003  0.998999"
      ]
     },
     "metadata": {},
     "output_type": "display_data"
    },
    {
     "name": "stdout",
     "output_type": "stream",
     "text": [
      "Decision Tree: Testing Data Binary entropy split\n"
     ]
    },
    {
     "data": {
      "text/html": [
       "<div>\n",
       "<style scoped>\n",
       "    .dataframe tbody tr th:only-of-type {\n",
       "        vertical-align: middle;\n",
       "    }\n",
       "\n",
       "    .dataframe tbody tr th {\n",
       "        vertical-align: top;\n",
       "    }\n",
       "\n",
       "    .dataframe thead th {\n",
       "        text-align: right;\n",
       "    }\n",
       "</style>\n",
       "<table border=\"1\" class=\"dataframe\">\n",
       "  <thead>\n",
       "    <tr style=\"text-align: right;\">\n",
       "      <th></th>\n",
       "      <th>Accuracy</th>\n",
       "      <th>Error</th>\n",
       "      <th>F1 Score</th>\n",
       "      <th>AUC</th>\n",
       "      <th>Precision</th>\n",
       "      <th>Recall</th>\n",
       "    </tr>\n",
       "  </thead>\n",
       "  <tbody>\n",
       "    <tr>\n",
       "      <th>0</th>\n",
       "      <td>0.7106</td>\n",
       "      <td>0.2894</td>\n",
       "      <td>0.788735</td>\n",
       "      <td>0.665834</td>\n",
       "      <td>0.712205</td>\n",
       "      <td>0.7106</td>\n",
       "    </tr>\n",
       "  </tbody>\n",
       "</table>\n",
       "</div>"
      ],
      "text/plain": [
       "   Accuracy   Error  F1 Score       AUC  Precision  Recall\n",
       "0    0.7106  0.2894  0.788735  0.665834   0.712205  0.7106"
      ]
     },
     "metadata": {},
     "output_type": "display_data"
    }
   ],
   "source": [
    "# binary decision tree\n",
    "for split in ['gini', 'entropy']:\n",
    "    tree_binary = DTC(random_state=0, criterion=split)\n",
    "    tree_binary.fit(x_train_binary, y_train_binary)\n",
    "    print_metrics(x_train_binary, y_train_binary, tree_binary, \"Decision Tree: Training Data Binary \" + split + \" split\")\n",
    "    print_metrics(x_test_binary, y_test_binary, tree_binary, \"Decision Tree: Testing Data Binary \" + split + \" split\")"
   ]
  },
  {
   "cell_type": "markdown",
   "id": "popular-champion",
   "metadata": {},
   "source": [
    "<a id='RFC'></a>\n",
    "### Random Forest Classifier"
   ]
  },
  {
   "cell_type": "code",
   "execution_count": 15,
   "id": "arranged-office",
   "metadata": {},
   "outputs": [],
   "source": [
    "from sklearn.ensemble import RandomForestClassifier as RFC"
   ]
  },
  {
   "cell_type": "code",
   "execution_count": 16,
   "id": "inclusive-helena",
   "metadata": {},
   "outputs": [
    {
     "name": "stdout",
     "output_type": "stream",
     "text": [
      "Random Forest: Training Data Multi Class 50 trees\n"
     ]
    },
    {
     "data": {
      "text/html": [
       "<div>\n",
       "<style scoped>\n",
       "    .dataframe tbody tr th:only-of-type {\n",
       "        vertical-align: middle;\n",
       "    }\n",
       "\n",
       "    .dataframe tbody tr th {\n",
       "        vertical-align: top;\n",
       "    }\n",
       "\n",
       "    .dataframe thead th {\n",
       "        text-align: right;\n",
       "    }\n",
       "</style>\n",
       "<table border=\"1\" class=\"dataframe\">\n",
       "  <thead>\n",
       "    <tr style=\"text-align: right;\">\n",
       "      <th></th>\n",
       "      <th>Accuracy</th>\n",
       "      <th>Error</th>\n",
       "      <th>F1 Score</th>\n",
       "      <th>Precision</th>\n",
       "      <th>Recall</th>\n",
       "      <th>Cohen Kappa</th>\n",
       "    </tr>\n",
       "  </thead>\n",
       "  <tbody>\n",
       "    <tr>\n",
       "      <th>0</th>\n",
       "      <td>0.998012</td>\n",
       "      <td>0.001988</td>\n",
       "      <td>0.998012</td>\n",
       "      <td>0.998013</td>\n",
       "      <td>0.998012</td>\n",
       "      <td>0.997645</td>\n",
       "    </tr>\n",
       "  </tbody>\n",
       "</table>\n",
       "</div>"
      ],
      "text/plain": [
       "   Accuracy     Error  F1 Score  Precision    Recall  Cohen Kappa\n",
       "0  0.998012  0.001988  0.998012   0.998013  0.998012     0.997645"
      ]
     },
     "metadata": {},
     "output_type": "display_data"
    },
    {
     "name": "stdout",
     "output_type": "stream",
     "text": [
      "Random Forest: Testing Data Multi Class 50 trees\n"
     ]
    },
    {
     "data": {
      "text/html": [
       "<div>\n",
       "<style scoped>\n",
       "    .dataframe tbody tr th:only-of-type {\n",
       "        vertical-align: middle;\n",
       "    }\n",
       "\n",
       "    .dataframe tbody tr th {\n",
       "        vertical-align: top;\n",
       "    }\n",
       "\n",
       "    .dataframe thead th {\n",
       "        text-align: right;\n",
       "    }\n",
       "</style>\n",
       "<table border=\"1\" class=\"dataframe\">\n",
       "  <thead>\n",
       "    <tr style=\"text-align: right;\">\n",
       "      <th></th>\n",
       "      <th>Accuracy</th>\n",
       "      <th>Error</th>\n",
       "      <th>F1 Score</th>\n",
       "      <th>Precision</th>\n",
       "      <th>Recall</th>\n",
       "      <th>Cohen Kappa</th>\n",
       "    </tr>\n",
       "  </thead>\n",
       "  <tbody>\n",
       "    <tr>\n",
       "      <th>0</th>\n",
       "      <td>0.421078</td>\n",
       "      <td>0.578922</td>\n",
       "      <td>0.421078</td>\n",
       "      <td>0.405807</td>\n",
       "      <td>0.421078</td>\n",
       "      <td>0.294511</td>\n",
       "    </tr>\n",
       "  </tbody>\n",
       "</table>\n",
       "</div>"
      ],
      "text/plain": [
       "   Accuracy     Error  F1 Score  Precision    Recall  Cohen Kappa\n",
       "0  0.421078  0.578922  0.421078   0.405807  0.421078     0.294511"
      ]
     },
     "metadata": {},
     "output_type": "display_data"
    },
    {
     "name": "stdout",
     "output_type": "stream",
     "text": [
      "Random Forest: Training Data Multi Class 100 trees\n"
     ]
    },
    {
     "data": {
      "text/html": [
       "<div>\n",
       "<style scoped>\n",
       "    .dataframe tbody tr th:only-of-type {\n",
       "        vertical-align: middle;\n",
       "    }\n",
       "\n",
       "    .dataframe tbody tr th {\n",
       "        vertical-align: top;\n",
       "    }\n",
       "\n",
       "    .dataframe thead th {\n",
       "        text-align: right;\n",
       "    }\n",
       "</style>\n",
       "<table border=\"1\" class=\"dataframe\">\n",
       "  <thead>\n",
       "    <tr style=\"text-align: right;\">\n",
       "      <th></th>\n",
       "      <th>Accuracy</th>\n",
       "      <th>Error</th>\n",
       "      <th>F1 Score</th>\n",
       "      <th>Precision</th>\n",
       "      <th>Recall</th>\n",
       "      <th>Cohen Kappa</th>\n",
       "    </tr>\n",
       "  </thead>\n",
       "  <tbody>\n",
       "    <tr>\n",
       "      <th>0</th>\n",
       "      <td>0.998026</td>\n",
       "      <td>0.001974</td>\n",
       "      <td>0.998026</td>\n",
       "      <td>0.998026</td>\n",
       "      <td>0.998026</td>\n",
       "      <td>0.997661</td>\n",
       "    </tr>\n",
       "  </tbody>\n",
       "</table>\n",
       "</div>"
      ],
      "text/plain": [
       "   Accuracy     Error  F1 Score  Precision    Recall  Cohen Kappa\n",
       "0  0.998026  0.001974  0.998026   0.998026  0.998026     0.997661"
      ]
     },
     "metadata": {},
     "output_type": "display_data"
    },
    {
     "name": "stdout",
     "output_type": "stream",
     "text": [
      "Random Forest: Testing Data Multi Class 100 trees\n"
     ]
    },
    {
     "data": {
      "text/html": [
       "<div>\n",
       "<style scoped>\n",
       "    .dataframe tbody tr th:only-of-type {\n",
       "        vertical-align: middle;\n",
       "    }\n",
       "\n",
       "    .dataframe tbody tr th {\n",
       "        vertical-align: top;\n",
       "    }\n",
       "\n",
       "    .dataframe thead th {\n",
       "        text-align: right;\n",
       "    }\n",
       "</style>\n",
       "<table border=\"1\" class=\"dataframe\">\n",
       "  <thead>\n",
       "    <tr style=\"text-align: right;\">\n",
       "      <th></th>\n",
       "      <th>Accuracy</th>\n",
       "      <th>Error</th>\n",
       "      <th>F1 Score</th>\n",
       "      <th>Precision</th>\n",
       "      <th>Recall</th>\n",
       "      <th>Cohen Kappa</th>\n",
       "    </tr>\n",
       "  </thead>\n",
       "  <tbody>\n",
       "    <tr>\n",
       "      <th>0</th>\n",
       "      <td>0.425703</td>\n",
       "      <td>0.574297</td>\n",
       "      <td>0.425703</td>\n",
       "      <td>0.409616</td>\n",
       "      <td>0.425703</td>\n",
       "      <td>0.298485</td>\n",
       "    </tr>\n",
       "  </tbody>\n",
       "</table>\n",
       "</div>"
      ],
      "text/plain": [
       "   Accuracy     Error  F1 Score  Precision    Recall  Cohen Kappa\n",
       "0  0.425703  0.574297  0.425703   0.409616  0.425703     0.298485"
      ]
     },
     "metadata": {},
     "output_type": "display_data"
    },
    {
     "name": "stdout",
     "output_type": "stream",
     "text": [
      "Random Forest: Training Data Multi Class 250 trees\n"
     ]
    },
    {
     "data": {
      "text/html": [
       "<div>\n",
       "<style scoped>\n",
       "    .dataframe tbody tr th:only-of-type {\n",
       "        vertical-align: middle;\n",
       "    }\n",
       "\n",
       "    .dataframe tbody tr th {\n",
       "        vertical-align: top;\n",
       "    }\n",
       "\n",
       "    .dataframe thead th {\n",
       "        text-align: right;\n",
       "    }\n",
       "</style>\n",
       "<table border=\"1\" class=\"dataframe\">\n",
       "  <thead>\n",
       "    <tr style=\"text-align: right;\">\n",
       "      <th></th>\n",
       "      <th>Accuracy</th>\n",
       "      <th>Error</th>\n",
       "      <th>F1 Score</th>\n",
       "      <th>Precision</th>\n",
       "      <th>Recall</th>\n",
       "      <th>Cohen Kappa</th>\n",
       "    </tr>\n",
       "  </thead>\n",
       "  <tbody>\n",
       "    <tr>\n",
       "      <th>0</th>\n",
       "      <td>0.998026</td>\n",
       "      <td>0.001974</td>\n",
       "      <td>0.998026</td>\n",
       "      <td>0.998026</td>\n",
       "      <td>0.998026</td>\n",
       "      <td>0.997661</td>\n",
       "    </tr>\n",
       "  </tbody>\n",
       "</table>\n",
       "</div>"
      ],
      "text/plain": [
       "   Accuracy     Error  F1 Score  Precision    Recall  Cohen Kappa\n",
       "0  0.998026  0.001974  0.998026   0.998026  0.998026     0.997661"
      ]
     },
     "metadata": {},
     "output_type": "display_data"
    },
    {
     "name": "stdout",
     "output_type": "stream",
     "text": [
      "Random Forest: Testing Data Multi Class 250 trees\n"
     ]
    },
    {
     "data": {
      "text/html": [
       "<div>\n",
       "<style scoped>\n",
       "    .dataframe tbody tr th:only-of-type {\n",
       "        vertical-align: middle;\n",
       "    }\n",
       "\n",
       "    .dataframe tbody tr th {\n",
       "        vertical-align: top;\n",
       "    }\n",
       "\n",
       "    .dataframe thead th {\n",
       "        text-align: right;\n",
       "    }\n",
       "</style>\n",
       "<table border=\"1\" class=\"dataframe\">\n",
       "  <thead>\n",
       "    <tr style=\"text-align: right;\">\n",
       "      <th></th>\n",
       "      <th>Accuracy</th>\n",
       "      <th>Error</th>\n",
       "      <th>F1 Score</th>\n",
       "      <th>Precision</th>\n",
       "      <th>Recall</th>\n",
       "      <th>Cohen Kappa</th>\n",
       "    </tr>\n",
       "  </thead>\n",
       "  <tbody>\n",
       "    <tr>\n",
       "      <th>0</th>\n",
       "      <td>0.432031</td>\n",
       "      <td>0.567969</td>\n",
       "      <td>0.432031</td>\n",
       "      <td>0.416109</td>\n",
       "      <td>0.432031</td>\n",
       "      <td>0.304951</td>\n",
       "    </tr>\n",
       "  </tbody>\n",
       "</table>\n",
       "</div>"
      ],
      "text/plain": [
       "   Accuracy     Error  F1 Score  Precision    Recall  Cohen Kappa\n",
       "0  0.432031  0.567969  0.432031   0.416109  0.432031     0.304951"
      ]
     },
     "metadata": {},
     "output_type": "display_data"
    },
    {
     "name": "stdout",
     "output_type": "stream",
     "text": [
      "Random Forest: Training Data Multi Class 500 trees\n"
     ]
    },
    {
     "data": {
      "text/html": [
       "<div>\n",
       "<style scoped>\n",
       "    .dataframe tbody tr th:only-of-type {\n",
       "        vertical-align: middle;\n",
       "    }\n",
       "\n",
       "    .dataframe tbody tr th {\n",
       "        vertical-align: top;\n",
       "    }\n",
       "\n",
       "    .dataframe thead th {\n",
       "        text-align: right;\n",
       "    }\n",
       "</style>\n",
       "<table border=\"1\" class=\"dataframe\">\n",
       "  <thead>\n",
       "    <tr style=\"text-align: right;\">\n",
       "      <th></th>\n",
       "      <th>Accuracy</th>\n",
       "      <th>Error</th>\n",
       "      <th>F1 Score</th>\n",
       "      <th>Precision</th>\n",
       "      <th>Recall</th>\n",
       "      <th>Cohen Kappa</th>\n",
       "    </tr>\n",
       "  </thead>\n",
       "  <tbody>\n",
       "    <tr>\n",
       "      <th>0</th>\n",
       "      <td>0.998026</td>\n",
       "      <td>0.001974</td>\n",
       "      <td>0.998026</td>\n",
       "      <td>0.998026</td>\n",
       "      <td>0.998026</td>\n",
       "      <td>0.997661</td>\n",
       "    </tr>\n",
       "  </tbody>\n",
       "</table>\n",
       "</div>"
      ],
      "text/plain": [
       "   Accuracy     Error  F1 Score  Precision    Recall  Cohen Kappa\n",
       "0  0.998026  0.001974  0.998026   0.998026  0.998026     0.997661"
      ]
     },
     "metadata": {},
     "output_type": "display_data"
    },
    {
     "name": "stdout",
     "output_type": "stream",
     "text": [
      "Random Forest: Testing Data Multi Class 500 trees\n"
     ]
    },
    {
     "data": {
      "text/html": [
       "<div>\n",
       "<style scoped>\n",
       "    .dataframe tbody tr th:only-of-type {\n",
       "        vertical-align: middle;\n",
       "    }\n",
       "\n",
       "    .dataframe tbody tr th {\n",
       "        vertical-align: top;\n",
       "    }\n",
       "\n",
       "    .dataframe thead th {\n",
       "        text-align: right;\n",
       "    }\n",
       "</style>\n",
       "<table border=\"1\" class=\"dataframe\">\n",
       "  <thead>\n",
       "    <tr style=\"text-align: right;\">\n",
       "      <th></th>\n",
       "      <th>Accuracy</th>\n",
       "      <th>Error</th>\n",
       "      <th>F1 Score</th>\n",
       "      <th>Precision</th>\n",
       "      <th>Recall</th>\n",
       "      <th>Cohen Kappa</th>\n",
       "    </tr>\n",
       "  </thead>\n",
       "  <tbody>\n",
       "    <tr>\n",
       "      <th>0</th>\n",
       "      <td>0.431504</td>\n",
       "      <td>0.568496</td>\n",
       "      <td>0.431504</td>\n",
       "      <td>0.41553</td>\n",
       "      <td>0.431504</td>\n",
       "      <td>0.303874</td>\n",
       "    </tr>\n",
       "  </tbody>\n",
       "</table>\n",
       "</div>"
      ],
      "text/plain": [
       "   Accuracy     Error  F1 Score  Precision    Recall  Cohen Kappa\n",
       "0  0.431504  0.568496  0.431504    0.41553  0.431504     0.303874"
      ]
     },
     "metadata": {},
     "output_type": "display_data"
    }
   ],
   "source": [
    "# multi class random forest\n",
    "\n",
    "# define number of trees \n",
    "trees = [50, 100, 250, 500]\n",
    "\n",
    "# define classifier\n",
    "for num_trees in trees:\n",
    "    rand_forest = RFC(n_estimators=num_trees, random_state=42)\n",
    "    rand_forest.fit(x_train, y_train)\n",
    "    print_metrics(x_train, y_train, rand_forest, \"Random Forest: Training Data Multi Class \" + str(num_trees) + \" trees\", multiclass=True)\n",
    "    print_metrics(x_test, y_test, rand_forest, \"Random Forest: Testing Data Multi Class \" + str(num_trees)+ \" trees\", multiclass=True)"
   ]
  },
  {
   "cell_type": "code",
   "execution_count": 17,
   "id": "becoming-shell",
   "metadata": {},
   "outputs": [
    {
     "name": "stdout",
     "output_type": "stream",
     "text": [
      "Random Forest: Training Data Binary 50 trees\n"
     ]
    },
    {
     "data": {
      "text/html": [
       "<div>\n",
       "<style scoped>\n",
       "    .dataframe tbody tr th:only-of-type {\n",
       "        vertical-align: middle;\n",
       "    }\n",
       "\n",
       "    .dataframe tbody tr th {\n",
       "        vertical-align: top;\n",
       "    }\n",
       "\n",
       "    .dataframe thead th {\n",
       "        text-align: right;\n",
       "    }\n",
       "</style>\n",
       "<table border=\"1\" class=\"dataframe\">\n",
       "  <thead>\n",
       "    <tr style=\"text-align: right;\">\n",
       "      <th></th>\n",
       "      <th>Accuracy</th>\n",
       "      <th>Error</th>\n",
       "      <th>F1 Score</th>\n",
       "      <th>AUC</th>\n",
       "      <th>Precision</th>\n",
       "      <th>Recall</th>\n",
       "    </tr>\n",
       "  </thead>\n",
       "  <tbody>\n",
       "    <tr>\n",
       "      <th>0</th>\n",
       "      <td>0.998702</td>\n",
       "      <td>0.001298</td>\n",
       "      <td>0.999056</td>\n",
       "      <td>0.99999</td>\n",
       "      <td>0.998702</td>\n",
       "      <td>0.998702</td>\n",
       "    </tr>\n",
       "  </tbody>\n",
       "</table>\n",
       "</div>"
      ],
      "text/plain": [
       "   Accuracy     Error  F1 Score      AUC  Precision    Recall\n",
       "0  0.998702  0.001298  0.999056  0.99999   0.998702  0.998702"
      ]
     },
     "metadata": {},
     "output_type": "display_data"
    },
    {
     "name": "stdout",
     "output_type": "stream",
     "text": [
      "Random Forest: Testing Data Binary 50 trees\n"
     ]
    },
    {
     "data": {
      "text/html": [
       "<div>\n",
       "<style scoped>\n",
       "    .dataframe tbody tr th:only-of-type {\n",
       "        vertical-align: middle;\n",
       "    }\n",
       "\n",
       "    .dataframe tbody tr th {\n",
       "        vertical-align: top;\n",
       "    }\n",
       "\n",
       "    .dataframe thead th {\n",
       "        text-align: right;\n",
       "    }\n",
       "</style>\n",
       "<table border=\"1\" class=\"dataframe\">\n",
       "  <thead>\n",
       "    <tr style=\"text-align: right;\">\n",
       "      <th></th>\n",
       "      <th>Accuracy</th>\n",
       "      <th>Error</th>\n",
       "      <th>F1 Score</th>\n",
       "      <th>AUC</th>\n",
       "      <th>Precision</th>\n",
       "      <th>Recall</th>\n",
       "    </tr>\n",
       "  </thead>\n",
       "  <tbody>\n",
       "    <tr>\n",
       "      <th>0</th>\n",
       "      <td>0.758144</td>\n",
       "      <td>0.241856</td>\n",
       "      <td>0.830538</td>\n",
       "      <td>0.806882</td>\n",
       "      <td>0.749585</td>\n",
       "      <td>0.758144</td>\n",
       "    </tr>\n",
       "  </tbody>\n",
       "</table>\n",
       "</div>"
      ],
      "text/plain": [
       "   Accuracy     Error  F1 Score       AUC  Precision    Recall\n",
       "0  0.758144  0.241856  0.830538  0.806882   0.749585  0.758144"
      ]
     },
     "metadata": {},
     "output_type": "display_data"
    },
    {
     "name": "stdout",
     "output_type": "stream",
     "text": [
      "Random Forest: Training Data Binary 100 trees\n"
     ]
    },
    {
     "data": {
      "text/html": [
       "<div>\n",
       "<style scoped>\n",
       "    .dataframe tbody tr th:only-of-type {\n",
       "        vertical-align: middle;\n",
       "    }\n",
       "\n",
       "    .dataframe tbody tr th {\n",
       "        vertical-align: top;\n",
       "    }\n",
       "\n",
       "    .dataframe thead th {\n",
       "        text-align: right;\n",
       "    }\n",
       "</style>\n",
       "<table border=\"1\" class=\"dataframe\">\n",
       "  <thead>\n",
       "    <tr style=\"text-align: right;\">\n",
       "      <th></th>\n",
       "      <th>Accuracy</th>\n",
       "      <th>Error</th>\n",
       "      <th>F1 Score</th>\n",
       "      <th>AUC</th>\n",
       "      <th>Precision</th>\n",
       "      <th>Recall</th>\n",
       "    </tr>\n",
       "  </thead>\n",
       "  <tbody>\n",
       "    <tr>\n",
       "      <th>0</th>\n",
       "      <td>0.998959</td>\n",
       "      <td>0.001041</td>\n",
       "      <td>0.999243</td>\n",
       "      <td>0.999996</td>\n",
       "      <td>0.998959</td>\n",
       "      <td>0.998959</td>\n",
       "    </tr>\n",
       "  </tbody>\n",
       "</table>\n",
       "</div>"
      ],
      "text/plain": [
       "   Accuracy     Error  F1 Score       AUC  Precision    Recall\n",
       "0  0.998959  0.001041  0.999243  0.999996   0.998959  0.998959"
      ]
     },
     "metadata": {},
     "output_type": "display_data"
    },
    {
     "name": "stdout",
     "output_type": "stream",
     "text": [
      "Random Forest: Testing Data Binary 100 trees\n"
     ]
    },
    {
     "data": {
      "text/html": [
       "<div>\n",
       "<style scoped>\n",
       "    .dataframe tbody tr th:only-of-type {\n",
       "        vertical-align: middle;\n",
       "    }\n",
       "\n",
       "    .dataframe tbody tr th {\n",
       "        vertical-align: top;\n",
       "    }\n",
       "\n",
       "    .dataframe thead th {\n",
       "        text-align: right;\n",
       "    }\n",
       "</style>\n",
       "<table border=\"1\" class=\"dataframe\">\n",
       "  <thead>\n",
       "    <tr style=\"text-align: right;\">\n",
       "      <th></th>\n",
       "      <th>Accuracy</th>\n",
       "      <th>Error</th>\n",
       "      <th>F1 Score</th>\n",
       "      <th>AUC</th>\n",
       "      <th>Precision</th>\n",
       "      <th>Recall</th>\n",
       "    </tr>\n",
       "  </thead>\n",
       "  <tbody>\n",
       "    <tr>\n",
       "      <th>0</th>\n",
       "      <td>0.762565</td>\n",
       "      <td>0.237435</td>\n",
       "      <td>0.834132</td>\n",
       "      <td>0.811627</td>\n",
       "      <td>0.753825</td>\n",
       "      <td>0.762565</td>\n",
       "    </tr>\n",
       "  </tbody>\n",
       "</table>\n",
       "</div>"
      ],
      "text/plain": [
       "   Accuracy     Error  F1 Score       AUC  Precision    Recall\n",
       "0  0.762565  0.237435  0.834132  0.811627   0.753825  0.762565"
      ]
     },
     "metadata": {},
     "output_type": "display_data"
    },
    {
     "name": "stdout",
     "output_type": "stream",
     "text": [
      "Random Forest: Training Data Binary 250 trees\n"
     ]
    },
    {
     "data": {
      "text/html": [
       "<div>\n",
       "<style scoped>\n",
       "    .dataframe tbody tr th:only-of-type {\n",
       "        vertical-align: middle;\n",
       "    }\n",
       "\n",
       "    .dataframe tbody tr th {\n",
       "        vertical-align: top;\n",
       "    }\n",
       "\n",
       "    .dataframe thead th {\n",
       "        text-align: right;\n",
       "    }\n",
       "</style>\n",
       "<table border=\"1\" class=\"dataframe\">\n",
       "  <thead>\n",
       "    <tr style=\"text-align: right;\">\n",
       "      <th></th>\n",
       "      <th>Accuracy</th>\n",
       "      <th>Error</th>\n",
       "      <th>F1 Score</th>\n",
       "      <th>AUC</th>\n",
       "      <th>Precision</th>\n",
       "      <th>Recall</th>\n",
       "    </tr>\n",
       "  </thead>\n",
       "  <tbody>\n",
       "    <tr>\n",
       "      <th>0</th>\n",
       "      <td>0.998999</td>\n",
       "      <td>0.001001</td>\n",
       "      <td>0.999273</td>\n",
       "      <td>0.999997</td>\n",
       "      <td>0.998999</td>\n",
       "      <td>0.998999</td>\n",
       "    </tr>\n",
       "  </tbody>\n",
       "</table>\n",
       "</div>"
      ],
      "text/plain": [
       "   Accuracy     Error  F1 Score       AUC  Precision    Recall\n",
       "0  0.998999  0.001001  0.999273  0.999997   0.998999  0.998999"
      ]
     },
     "metadata": {},
     "output_type": "display_data"
    },
    {
     "name": "stdout",
     "output_type": "stream",
     "text": [
      "Random Forest: Testing Data Binary 250 trees\n"
     ]
    },
    {
     "data": {
      "text/html": [
       "<div>\n",
       "<style scoped>\n",
       "    .dataframe tbody tr th:only-of-type {\n",
       "        vertical-align: middle;\n",
       "    }\n",
       "\n",
       "    .dataframe tbody tr th {\n",
       "        vertical-align: top;\n",
       "    }\n",
       "\n",
       "    .dataframe thead th {\n",
       "        text-align: right;\n",
       "    }\n",
       "</style>\n",
       "<table border=\"1\" class=\"dataframe\">\n",
       "  <thead>\n",
       "    <tr style=\"text-align: right;\">\n",
       "      <th></th>\n",
       "      <th>Accuracy</th>\n",
       "      <th>Error</th>\n",
       "      <th>F1 Score</th>\n",
       "      <th>AUC</th>\n",
       "      <th>Precision</th>\n",
       "      <th>Recall</th>\n",
       "    </tr>\n",
       "  </thead>\n",
       "  <tbody>\n",
       "    <tr>\n",
       "      <th>0</th>\n",
       "      <td>0.762281</td>\n",
       "      <td>0.237719</td>\n",
       "      <td>0.834463</td>\n",
       "      <td>0.812356</td>\n",
       "      <td>0.753065</td>\n",
       "      <td>0.762281</td>\n",
       "    </tr>\n",
       "  </tbody>\n",
       "</table>\n",
       "</div>"
      ],
      "text/plain": [
       "   Accuracy     Error  F1 Score       AUC  Precision    Recall\n",
       "0  0.762281  0.237719  0.834463  0.812356   0.753065  0.762281"
      ]
     },
     "metadata": {},
     "output_type": "display_data"
    },
    {
     "name": "stdout",
     "output_type": "stream",
     "text": [
      "Random Forest: Training Data Binary 500 trees\n"
     ]
    },
    {
     "data": {
      "text/html": [
       "<div>\n",
       "<style scoped>\n",
       "    .dataframe tbody tr th:only-of-type {\n",
       "        vertical-align: middle;\n",
       "    }\n",
       "\n",
       "    .dataframe tbody tr th {\n",
       "        vertical-align: top;\n",
       "    }\n",
       "\n",
       "    .dataframe thead th {\n",
       "        text-align: right;\n",
       "    }\n",
       "</style>\n",
       "<table border=\"1\" class=\"dataframe\">\n",
       "  <thead>\n",
       "    <tr style=\"text-align: right;\">\n",
       "      <th></th>\n",
       "      <th>Accuracy</th>\n",
       "      <th>Error</th>\n",
       "      <th>F1 Score</th>\n",
       "      <th>AUC</th>\n",
       "      <th>Precision</th>\n",
       "      <th>Recall</th>\n",
       "    </tr>\n",
       "  </thead>\n",
       "  <tbody>\n",
       "    <tr>\n",
       "      <th>0</th>\n",
       "      <td>0.998999</td>\n",
       "      <td>0.001001</td>\n",
       "      <td>0.999273</td>\n",
       "      <td>0.999997</td>\n",
       "      <td>0.998999</td>\n",
       "      <td>0.998999</td>\n",
       "    </tr>\n",
       "  </tbody>\n",
       "</table>\n",
       "</div>"
      ],
      "text/plain": [
       "   Accuracy     Error  F1 Score       AUC  Precision    Recall\n",
       "0  0.998999  0.001001  0.999273  0.999997   0.998999  0.998999"
      ]
     },
     "metadata": {},
     "output_type": "display_data"
    },
    {
     "name": "stdout",
     "output_type": "stream",
     "text": [
      "Random Forest: Testing Data Binary 500 trees\n"
     ]
    },
    {
     "data": {
      "text/html": [
       "<div>\n",
       "<style scoped>\n",
       "    .dataframe tbody tr th:only-of-type {\n",
       "        vertical-align: middle;\n",
       "    }\n",
       "\n",
       "    .dataframe tbody tr th {\n",
       "        vertical-align: top;\n",
       "    }\n",
       "\n",
       "    .dataframe thead th {\n",
       "        text-align: right;\n",
       "    }\n",
       "</style>\n",
       "<table border=\"1\" class=\"dataframe\">\n",
       "  <thead>\n",
       "    <tr style=\"text-align: right;\">\n",
       "      <th></th>\n",
       "      <th>Accuracy</th>\n",
       "      <th>Error</th>\n",
       "      <th>F1 Score</th>\n",
       "      <th>AUC</th>\n",
       "      <th>Precision</th>\n",
       "      <th>Recall</th>\n",
       "    </tr>\n",
       "  </thead>\n",
       "  <tbody>\n",
       "    <tr>\n",
       "      <th>0</th>\n",
       "      <td>0.762728</td>\n",
       "      <td>0.237272</td>\n",
       "      <td>0.8349</td>\n",
       "      <td>0.813407</td>\n",
       "      <td>0.753445</td>\n",
       "      <td>0.762728</td>\n",
       "    </tr>\n",
       "  </tbody>\n",
       "</table>\n",
       "</div>"
      ],
      "text/plain": [
       "   Accuracy     Error  F1 Score       AUC  Precision    Recall\n",
       "0  0.762728  0.237272    0.8349  0.813407   0.753445  0.762728"
      ]
     },
     "metadata": {},
     "output_type": "display_data"
    }
   ],
   "source": [
    "# binary random forest\n",
    "\n",
    "# define number of trees \n",
    "trees = [50, 100, 250, 500]\n",
    "\n",
    "# define classifier\n",
    "for num_trees in trees:\n",
    "    rand_forest = RFC(n_estimators=num_trees, random_state=42)\n",
    "    rand_forest.fit(x_train_binary, y_train_binary)\n",
    "    print_metrics(x_train_binary, y_train_binary, rand_forest, \"Random Forest: Training Data Binary \" + str(num_trees) + \" trees\")\n",
    "    print_metrics(x_test_binary, y_test_binary, rand_forest, \"Random Forest: Testing Data Binary \" + str(num_trees) + \" trees\")"
   ]
  },
  {
   "cell_type": "markdown",
   "id": "hollow-nitrogen",
   "metadata": {},
   "source": [
    "<a id='ABC'></a>\n",
    "### AdaBoost Classifier"
   ]
  },
  {
   "cell_type": "code",
   "execution_count": 18,
   "id": "recreational-algorithm",
   "metadata": {},
   "outputs": [],
   "source": [
    "from sklearn.ensemble import AdaBoostClassifier as ABC"
   ]
  },
  {
   "cell_type": "code",
   "execution_count": 19,
   "id": "peripheral-growing",
   "metadata": {},
   "outputs": [
    {
     "name": "stdout",
     "output_type": "stream",
     "text": [
      "AdaBoost: Training Data Multi Class 10 classifiers\n"
     ]
    },
    {
     "data": {
      "text/html": [
       "<div>\n",
       "<style scoped>\n",
       "    .dataframe tbody tr th:only-of-type {\n",
       "        vertical-align: middle;\n",
       "    }\n",
       "\n",
       "    .dataframe tbody tr th {\n",
       "        vertical-align: top;\n",
       "    }\n",
       "\n",
       "    .dataframe thead th {\n",
       "        text-align: right;\n",
       "    }\n",
       "</style>\n",
       "<table border=\"1\" class=\"dataframe\">\n",
       "  <thead>\n",
       "    <tr style=\"text-align: right;\">\n",
       "      <th></th>\n",
       "      <th>Accuracy</th>\n",
       "      <th>Error</th>\n",
       "      <th>F1 Score</th>\n",
       "      <th>Precision</th>\n",
       "      <th>Recall</th>\n",
       "      <th>Cohen Kappa</th>\n",
       "    </tr>\n",
       "  </thead>\n",
       "  <tbody>\n",
       "    <tr>\n",
       "      <th>0</th>\n",
       "      <td>0.313938</td>\n",
       "      <td>0.686062</td>\n",
       "      <td>0.313938</td>\n",
       "      <td>0.271198</td>\n",
       "      <td>0.313938</td>\n",
       "      <td>0.103643</td>\n",
       "    </tr>\n",
       "  </tbody>\n",
       "</table>\n",
       "</div>"
      ],
      "text/plain": [
       "   Accuracy     Error  F1 Score  Precision    Recall  Cohen Kappa\n",
       "0  0.313938  0.686062  0.313938   0.271198  0.313938     0.103643"
      ]
     },
     "metadata": {},
     "output_type": "display_data"
    },
    {
     "name": "stdout",
     "output_type": "stream",
     "text": [
      "AdaBoost: Testing Data Multi Class 10 classifiers\n"
     ]
    },
    {
     "data": {
      "text/html": [
       "<div>\n",
       "<style scoped>\n",
       "    .dataframe tbody tr th:only-of-type {\n",
       "        vertical-align: middle;\n",
       "    }\n",
       "\n",
       "    .dataframe tbody tr th {\n",
       "        vertical-align: top;\n",
       "    }\n",
       "\n",
       "    .dataframe thead th {\n",
       "        text-align: right;\n",
       "    }\n",
       "</style>\n",
       "<table border=\"1\" class=\"dataframe\">\n",
       "  <thead>\n",
       "    <tr style=\"text-align: right;\">\n",
       "      <th></th>\n",
       "      <th>Accuracy</th>\n",
       "      <th>Error</th>\n",
       "      <th>F1 Score</th>\n",
       "      <th>Precision</th>\n",
       "      <th>Recall</th>\n",
       "      <th>Cohen Kappa</th>\n",
       "    </tr>\n",
       "  </thead>\n",
       "  <tbody>\n",
       "    <tr>\n",
       "      <th>0</th>\n",
       "      <td>0.314997</td>\n",
       "      <td>0.685003</td>\n",
       "      <td>0.314997</td>\n",
       "      <td>0.252193</td>\n",
       "      <td>0.314997</td>\n",
       "      <td>0.104465</td>\n",
       "    </tr>\n",
       "  </tbody>\n",
       "</table>\n",
       "</div>"
      ],
      "text/plain": [
       "   Accuracy     Error  F1 Score  Precision    Recall  Cohen Kappa\n",
       "0  0.314997  0.685003  0.314997   0.252193  0.314997     0.104465"
      ]
     },
     "metadata": {},
     "output_type": "display_data"
    },
    {
     "name": "stdout",
     "output_type": "stream",
     "text": [
      "AdaBoost: Training Data Multi Class 50 classifiers\n"
     ]
    },
    {
     "data": {
      "text/html": [
       "<div>\n",
       "<style scoped>\n",
       "    .dataframe tbody tr th:only-of-type {\n",
       "        vertical-align: middle;\n",
       "    }\n",
       "\n",
       "    .dataframe tbody tr th {\n",
       "        vertical-align: top;\n",
       "    }\n",
       "\n",
       "    .dataframe thead th {\n",
       "        text-align: right;\n",
       "    }\n",
       "</style>\n",
       "<table border=\"1\" class=\"dataframe\">\n",
       "  <thead>\n",
       "    <tr style=\"text-align: right;\">\n",
       "      <th></th>\n",
       "      <th>Accuracy</th>\n",
       "      <th>Error</th>\n",
       "      <th>F1 Score</th>\n",
       "      <th>Precision</th>\n",
       "      <th>Recall</th>\n",
       "      <th>Cohen Kappa</th>\n",
       "    </tr>\n",
       "  </thead>\n",
       "  <tbody>\n",
       "    <tr>\n",
       "      <th>0</th>\n",
       "      <td>0.317345</td>\n",
       "      <td>0.682655</td>\n",
       "      <td>0.317345</td>\n",
       "      <td>0.248214</td>\n",
       "      <td>0.317345</td>\n",
       "      <td>0.110923</td>\n",
       "    </tr>\n",
       "  </tbody>\n",
       "</table>\n",
       "</div>"
      ],
      "text/plain": [
       "   Accuracy     Error  F1 Score  Precision    Recall  Cohen Kappa\n",
       "0  0.317345  0.682655  0.317345   0.248214  0.317345     0.110923"
      ]
     },
     "metadata": {},
     "output_type": "display_data"
    },
    {
     "name": "stdout",
     "output_type": "stream",
     "text": [
      "AdaBoost: Testing Data Multi Class 50 classifiers\n"
     ]
    },
    {
     "data": {
      "text/html": [
       "<div>\n",
       "<style scoped>\n",
       "    .dataframe tbody tr th:only-of-type {\n",
       "        vertical-align: middle;\n",
       "    }\n",
       "\n",
       "    .dataframe tbody tr th {\n",
       "        vertical-align: top;\n",
       "    }\n",
       "\n",
       "    .dataframe thead th {\n",
       "        text-align: right;\n",
       "    }\n",
       "</style>\n",
       "<table border=\"1\" class=\"dataframe\">\n",
       "  <thead>\n",
       "    <tr style=\"text-align: right;\">\n",
       "      <th></th>\n",
       "      <th>Accuracy</th>\n",
       "      <th>Error</th>\n",
       "      <th>F1 Score</th>\n",
       "      <th>Precision</th>\n",
       "      <th>Recall</th>\n",
       "      <th>Cohen Kappa</th>\n",
       "    </tr>\n",
       "  </thead>\n",
       "  <tbody>\n",
       "    <tr>\n",
       "      <th>0</th>\n",
       "      <td>0.318445</td>\n",
       "      <td>0.681555</td>\n",
       "      <td>0.318445</td>\n",
       "      <td>0.249102</td>\n",
       "      <td>0.318445</td>\n",
       "      <td>0.111766</td>\n",
       "    </tr>\n",
       "  </tbody>\n",
       "</table>\n",
       "</div>"
      ],
      "text/plain": [
       "   Accuracy     Error  F1 Score  Precision    Recall  Cohen Kappa\n",
       "0  0.318445  0.681555  0.318445   0.249102  0.318445     0.111766"
      ]
     },
     "metadata": {},
     "output_type": "display_data"
    },
    {
     "name": "stdout",
     "output_type": "stream",
     "text": [
      "AdaBoost: Training Data Multi Class 100 classifiers\n"
     ]
    },
    {
     "data": {
      "text/html": [
       "<div>\n",
       "<style scoped>\n",
       "    .dataframe tbody tr th:only-of-type {\n",
       "        vertical-align: middle;\n",
       "    }\n",
       "\n",
       "    .dataframe tbody tr th {\n",
       "        vertical-align: top;\n",
       "    }\n",
       "\n",
       "    .dataframe thead th {\n",
       "        text-align: right;\n",
       "    }\n",
       "</style>\n",
       "<table border=\"1\" class=\"dataframe\">\n",
       "  <thead>\n",
       "    <tr style=\"text-align: right;\">\n",
       "      <th></th>\n",
       "      <th>Accuracy</th>\n",
       "      <th>Error</th>\n",
       "      <th>F1 Score</th>\n",
       "      <th>Precision</th>\n",
       "      <th>Recall</th>\n",
       "      <th>Cohen Kappa</th>\n",
       "    </tr>\n",
       "  </thead>\n",
       "  <tbody>\n",
       "    <tr>\n",
       "      <th>0</th>\n",
       "      <td>0.317792</td>\n",
       "      <td>0.682208</td>\n",
       "      <td>0.317792</td>\n",
       "      <td>0.237323</td>\n",
       "      <td>0.317792</td>\n",
       "      <td>0.112989</td>\n",
       "    </tr>\n",
       "  </tbody>\n",
       "</table>\n",
       "</div>"
      ],
      "text/plain": [
       "   Accuracy     Error  F1 Score  Precision    Recall  Cohen Kappa\n",
       "0  0.317792  0.682208  0.317792   0.237323  0.317792     0.112989"
      ]
     },
     "metadata": {},
     "output_type": "display_data"
    },
    {
     "name": "stdout",
     "output_type": "stream",
     "text": [
      "AdaBoost: Testing Data Multi Class 100 classifiers\n"
     ]
    },
    {
     "data": {
      "text/html": [
       "<div>\n",
       "<style scoped>\n",
       "    .dataframe tbody tr th:only-of-type {\n",
       "        vertical-align: middle;\n",
       "    }\n",
       "\n",
       "    .dataframe tbody tr th {\n",
       "        vertical-align: top;\n",
       "    }\n",
       "\n",
       "    .dataframe thead th {\n",
       "        text-align: right;\n",
       "    }\n",
       "</style>\n",
       "<table border=\"1\" class=\"dataframe\">\n",
       "  <thead>\n",
       "    <tr style=\"text-align: right;\">\n",
       "      <th></th>\n",
       "      <th>Accuracy</th>\n",
       "      <th>Error</th>\n",
       "      <th>F1 Score</th>\n",
       "      <th>Precision</th>\n",
       "      <th>Recall</th>\n",
       "      <th>Cohen Kappa</th>\n",
       "    </tr>\n",
       "  </thead>\n",
       "  <tbody>\n",
       "    <tr>\n",
       "      <th>0</th>\n",
       "      <td>0.319176</td>\n",
       "      <td>0.680824</td>\n",
       "      <td>0.319176</td>\n",
       "      <td>0.21262</td>\n",
       "      <td>0.319176</td>\n",
       "      <td>0.114248</td>\n",
       "    </tr>\n",
       "  </tbody>\n",
       "</table>\n",
       "</div>"
      ],
      "text/plain": [
       "   Accuracy     Error  F1 Score  Precision    Recall  Cohen Kappa\n",
       "0  0.319176  0.680824  0.319176    0.21262  0.319176     0.114248"
      ]
     },
     "metadata": {},
     "output_type": "display_data"
    },
    {
     "name": "stdout",
     "output_type": "stream",
     "text": [
      "AdaBoost: Training Data Multi Class 500 classifiers\n"
     ]
    },
    {
     "data": {
      "text/html": [
       "<div>\n",
       "<style scoped>\n",
       "    .dataframe tbody tr th:only-of-type {\n",
       "        vertical-align: middle;\n",
       "    }\n",
       "\n",
       "    .dataframe tbody tr th {\n",
       "        vertical-align: top;\n",
       "    }\n",
       "\n",
       "    .dataframe thead th {\n",
       "        text-align: right;\n",
       "    }\n",
       "</style>\n",
       "<table border=\"1\" class=\"dataframe\">\n",
       "  <thead>\n",
       "    <tr style=\"text-align: right;\">\n",
       "      <th></th>\n",
       "      <th>Accuracy</th>\n",
       "      <th>Error</th>\n",
       "      <th>F1 Score</th>\n",
       "      <th>Precision</th>\n",
       "      <th>Recall</th>\n",
       "      <th>Cohen Kappa</th>\n",
       "    </tr>\n",
       "  </thead>\n",
       "  <tbody>\n",
       "    <tr>\n",
       "      <th>0</th>\n",
       "      <td>0.320131</td>\n",
       "      <td>0.679869</td>\n",
       "      <td>0.320131</td>\n",
       "      <td>0.221759</td>\n",
       "      <td>0.320131</td>\n",
       "      <td>0.118054</td>\n",
       "    </tr>\n",
       "  </tbody>\n",
       "</table>\n",
       "</div>"
      ],
      "text/plain": [
       "   Accuracy     Error  F1 Score  Precision    Recall  Cohen Kappa\n",
       "0  0.320131  0.679869  0.320131   0.221759  0.320131     0.118054"
      ]
     },
     "metadata": {},
     "output_type": "display_data"
    },
    {
     "name": "stdout",
     "output_type": "stream",
     "text": [
      "AdaBoost: Testing Data Multi Class 500 classifiers\n"
     ]
    },
    {
     "data": {
      "text/html": [
       "<div>\n",
       "<style scoped>\n",
       "    .dataframe tbody tr th:only-of-type {\n",
       "        vertical-align: middle;\n",
       "    }\n",
       "\n",
       "    .dataframe tbody tr th {\n",
       "        vertical-align: top;\n",
       "    }\n",
       "\n",
       "    .dataframe thead th {\n",
       "        text-align: right;\n",
       "    }\n",
       "</style>\n",
       "<table border=\"1\" class=\"dataframe\">\n",
       "  <thead>\n",
       "    <tr style=\"text-align: right;\">\n",
       "      <th></th>\n",
       "      <th>Accuracy</th>\n",
       "      <th>Error</th>\n",
       "      <th>F1 Score</th>\n",
       "      <th>Precision</th>\n",
       "      <th>Recall</th>\n",
       "      <th>Cohen Kappa</th>\n",
       "    </tr>\n",
       "  </thead>\n",
       "  <tbody>\n",
       "    <tr>\n",
       "      <th>0</th>\n",
       "      <td>0.321042</td>\n",
       "      <td>0.678958</td>\n",
       "      <td>0.321042</td>\n",
       "      <td>0.251201</td>\n",
       "      <td>0.321042</td>\n",
       "      <td>0.119053</td>\n",
       "    </tr>\n",
       "  </tbody>\n",
       "</table>\n",
       "</div>"
      ],
      "text/plain": [
       "   Accuracy     Error  F1 Score  Precision    Recall  Cohen Kappa\n",
       "0  0.321042  0.678958  0.321042   0.251201  0.321042     0.119053"
      ]
     },
     "metadata": {},
     "output_type": "display_data"
    }
   ],
   "source": [
    "# multi class adaboost\n",
    "\n",
    "# define classifier\n",
    "for num_clf in [10, 50, 100, 500]:\n",
    "    adaboost = ABC(n_estimators=num_clf)\n",
    "    adaboost.fit(x_train, y_train)\n",
    "    print_metrics(x_train, y_train, adaboost, \"AdaBoost: Training Data Multi Class \" + str(num_clf) + \" classifiers\", multiclass=True)\n",
    "    print_metrics(x_test, y_test, adaboost, \"AdaBoost: Testing Data Multi Class \" + str(num_clf) + \" classifiers\", multiclass=True)"
   ]
  },
  {
   "cell_type": "code",
   "execution_count": 20,
   "id": "excellent-funds",
   "metadata": {},
   "outputs": [
    {
     "name": "stdout",
     "output_type": "stream",
     "text": [
      "AdaBoost: Training Data Binary 10 classifiers\n"
     ]
    },
    {
     "data": {
      "text/html": [
       "<div>\n",
       "<style scoped>\n",
       "    .dataframe tbody tr th:only-of-type {\n",
       "        vertical-align: middle;\n",
       "    }\n",
       "\n",
       "    .dataframe tbody tr th {\n",
       "        vertical-align: top;\n",
       "    }\n",
       "\n",
       "    .dataframe thead th {\n",
       "        text-align: right;\n",
       "    }\n",
       "</style>\n",
       "<table border=\"1\" class=\"dataframe\">\n",
       "  <thead>\n",
       "    <tr style=\"text-align: right;\">\n",
       "      <th></th>\n",
       "      <th>Accuracy</th>\n",
       "      <th>Error</th>\n",
       "      <th>F1 Score</th>\n",
       "      <th>AUC</th>\n",
       "      <th>Precision</th>\n",
       "      <th>Recall</th>\n",
       "    </tr>\n",
       "  </thead>\n",
       "  <tbody>\n",
       "    <tr>\n",
       "      <th>0</th>\n",
       "      <td>0.729131</td>\n",
       "      <td>0.270869</td>\n",
       "      <td>0.813347</td>\n",
       "      <td>0.747961</td>\n",
       "      <td>0.715085</td>\n",
       "      <td>0.729131</td>\n",
       "    </tr>\n",
       "  </tbody>\n",
       "</table>\n",
       "</div>"
      ],
      "text/plain": [
       "   Accuracy     Error  F1 Score       AUC  Precision    Recall\n",
       "0  0.729131  0.270869  0.813347  0.747961   0.715085  0.729131"
      ]
     },
     "metadata": {},
     "output_type": "display_data"
    },
    {
     "name": "stdout",
     "output_type": "stream",
     "text": [
      "AdaBoost: Testing Data Binary 10 classifiers\n"
     ]
    },
    {
     "data": {
      "text/html": [
       "<div>\n",
       "<style scoped>\n",
       "    .dataframe tbody tr th:only-of-type {\n",
       "        vertical-align: middle;\n",
       "    }\n",
       "\n",
       "    .dataframe tbody tr th {\n",
       "        vertical-align: top;\n",
       "    }\n",
       "\n",
       "    .dataframe thead th {\n",
       "        text-align: right;\n",
       "    }\n",
       "</style>\n",
       "<table border=\"1\" class=\"dataframe\">\n",
       "  <thead>\n",
       "    <tr style=\"text-align: right;\">\n",
       "      <th></th>\n",
       "      <th>Accuracy</th>\n",
       "      <th>Error</th>\n",
       "      <th>F1 Score</th>\n",
       "      <th>AUC</th>\n",
       "      <th>Precision</th>\n",
       "      <th>Recall</th>\n",
       "    </tr>\n",
       "  </thead>\n",
       "  <tbody>\n",
       "    <tr>\n",
       "      <th>0</th>\n",
       "      <td>0.722932</td>\n",
       "      <td>0.277068</td>\n",
       "      <td>0.808447</td>\n",
       "      <td>0.740835</td>\n",
       "      <td>0.708951</td>\n",
       "      <td>0.722932</td>\n",
       "    </tr>\n",
       "  </tbody>\n",
       "</table>\n",
       "</div>"
      ],
      "text/plain": [
       "   Accuracy     Error  F1 Score       AUC  Precision    Recall\n",
       "0  0.722932  0.277068  0.808447  0.740835   0.708951  0.722932"
      ]
     },
     "metadata": {},
     "output_type": "display_data"
    },
    {
     "name": "stdout",
     "output_type": "stream",
     "text": [
      "AdaBoost: Training Data Binary 50 classifiers\n"
     ]
    },
    {
     "data": {
      "text/html": [
       "<div>\n",
       "<style scoped>\n",
       "    .dataframe tbody tr th:only-of-type {\n",
       "        vertical-align: middle;\n",
       "    }\n",
       "\n",
       "    .dataframe tbody tr th {\n",
       "        vertical-align: top;\n",
       "    }\n",
       "\n",
       "    .dataframe thead th {\n",
       "        text-align: right;\n",
       "    }\n",
       "</style>\n",
       "<table border=\"1\" class=\"dataframe\">\n",
       "  <thead>\n",
       "    <tr style=\"text-align: right;\">\n",
       "      <th></th>\n",
       "      <th>Accuracy</th>\n",
       "      <th>Error</th>\n",
       "      <th>F1 Score</th>\n",
       "      <th>AUC</th>\n",
       "      <th>Precision</th>\n",
       "      <th>Recall</th>\n",
       "    </tr>\n",
       "  </thead>\n",
       "  <tbody>\n",
       "    <tr>\n",
       "      <th>0</th>\n",
       "      <td>0.735</td>\n",
       "      <td>0.265</td>\n",
       "      <td>0.819594</td>\n",
       "      <td>0.76012</td>\n",
       "      <td>0.719809</td>\n",
       "      <td>0.735</td>\n",
       "    </tr>\n",
       "  </tbody>\n",
       "</table>\n",
       "</div>"
      ],
      "text/plain": [
       "   Accuracy  Error  F1 Score      AUC  Precision  Recall\n",
       "0     0.735  0.265  0.819594  0.76012   0.719809   0.735"
      ]
     },
     "metadata": {},
     "output_type": "display_data"
    },
    {
     "name": "stdout",
     "output_type": "stream",
     "text": [
      "AdaBoost: Testing Data Binary 50 classifiers\n"
     ]
    },
    {
     "data": {
      "text/html": [
       "<div>\n",
       "<style scoped>\n",
       "    .dataframe tbody tr th:only-of-type {\n",
       "        vertical-align: middle;\n",
       "    }\n",
       "\n",
       "    .dataframe tbody tr th {\n",
       "        vertical-align: top;\n",
       "    }\n",
       "\n",
       "    .dataframe thead th {\n",
       "        text-align: right;\n",
       "    }\n",
       "</style>\n",
       "<table border=\"1\" class=\"dataframe\">\n",
       "  <thead>\n",
       "    <tr style=\"text-align: right;\">\n",
       "      <th></th>\n",
       "      <th>Accuracy</th>\n",
       "      <th>Error</th>\n",
       "      <th>F1 Score</th>\n",
       "      <th>AUC</th>\n",
       "      <th>Precision</th>\n",
       "      <th>Recall</th>\n",
       "    </tr>\n",
       "  </thead>\n",
       "  <tbody>\n",
       "    <tr>\n",
       "      <th>0</th>\n",
       "      <td>0.727394</td>\n",
       "      <td>0.272606</td>\n",
       "      <td>0.814149</td>\n",
       "      <td>0.75118</td>\n",
       "      <td>0.711266</td>\n",
       "      <td>0.727394</td>\n",
       "    </tr>\n",
       "  </tbody>\n",
       "</table>\n",
       "</div>"
      ],
      "text/plain": [
       "   Accuracy     Error  F1 Score      AUC  Precision    Recall\n",
       "0  0.727394  0.272606  0.814149  0.75118   0.711266  0.727394"
      ]
     },
     "metadata": {},
     "output_type": "display_data"
    },
    {
     "name": "stdout",
     "output_type": "stream",
     "text": [
      "AdaBoost: Training Data Binary 100 classifiers\n"
     ]
    },
    {
     "data": {
      "text/html": [
       "<div>\n",
       "<style scoped>\n",
       "    .dataframe tbody tr th:only-of-type {\n",
       "        vertical-align: middle;\n",
       "    }\n",
       "\n",
       "    .dataframe tbody tr th {\n",
       "        vertical-align: top;\n",
       "    }\n",
       "\n",
       "    .dataframe thead th {\n",
       "        text-align: right;\n",
       "    }\n",
       "</style>\n",
       "<table border=\"1\" class=\"dataframe\">\n",
       "  <thead>\n",
       "    <tr style=\"text-align: right;\">\n",
       "      <th></th>\n",
       "      <th>Accuracy</th>\n",
       "      <th>Error</th>\n",
       "      <th>F1 Score</th>\n",
       "      <th>AUC</th>\n",
       "      <th>Precision</th>\n",
       "      <th>Recall</th>\n",
       "    </tr>\n",
       "  </thead>\n",
       "  <tbody>\n",
       "    <tr>\n",
       "      <th>0</th>\n",
       "      <td>0.738219</td>\n",
       "      <td>0.261781</td>\n",
       "      <td>0.822487</td>\n",
       "      <td>0.763783</td>\n",
       "      <td>0.72312</td>\n",
       "      <td>0.738219</td>\n",
       "    </tr>\n",
       "  </tbody>\n",
       "</table>\n",
       "</div>"
      ],
      "text/plain": [
       "   Accuracy     Error  F1 Score       AUC  Precision    Recall\n",
       "0  0.738219  0.261781  0.822487  0.763783    0.72312  0.738219"
      ]
     },
     "metadata": {},
     "output_type": "display_data"
    },
    {
     "name": "stdout",
     "output_type": "stream",
     "text": [
      "AdaBoost: Testing Data Binary 100 classifiers\n"
     ]
    },
    {
     "data": {
      "text/html": [
       "<div>\n",
       "<style scoped>\n",
       "    .dataframe tbody tr th:only-of-type {\n",
       "        vertical-align: middle;\n",
       "    }\n",
       "\n",
       "    .dataframe tbody tr th {\n",
       "        vertical-align: top;\n",
       "    }\n",
       "\n",
       "    .dataframe thead th {\n",
       "        text-align: right;\n",
       "    }\n",
       "</style>\n",
       "<table border=\"1\" class=\"dataframe\">\n",
       "  <thead>\n",
       "    <tr style=\"text-align: right;\">\n",
       "      <th></th>\n",
       "      <th>Accuracy</th>\n",
       "      <th>Error</th>\n",
       "      <th>F1 Score</th>\n",
       "      <th>AUC</th>\n",
       "      <th>Precision</th>\n",
       "      <th>Recall</th>\n",
       "    </tr>\n",
       "  </thead>\n",
       "  <tbody>\n",
       "    <tr>\n",
       "      <th>0</th>\n",
       "      <td>0.729869</td>\n",
       "      <td>0.270131</td>\n",
       "      <td>0.8164</td>\n",
       "      <td>0.754923</td>\n",
       "      <td>0.713655</td>\n",
       "      <td>0.729869</td>\n",
       "    </tr>\n",
       "  </tbody>\n",
       "</table>\n",
       "</div>"
      ],
      "text/plain": [
       "   Accuracy     Error  F1 Score       AUC  Precision    Recall\n",
       "0  0.729869  0.270131    0.8164  0.754923   0.713655  0.729869"
      ]
     },
     "metadata": {},
     "output_type": "display_data"
    },
    {
     "name": "stdout",
     "output_type": "stream",
     "text": [
      "AdaBoost: Training Data Binary 500 classifiers\n"
     ]
    },
    {
     "data": {
      "text/html": [
       "<div>\n",
       "<style scoped>\n",
       "    .dataframe tbody tr th:only-of-type {\n",
       "        vertical-align: middle;\n",
       "    }\n",
       "\n",
       "    .dataframe tbody tr th {\n",
       "        vertical-align: top;\n",
       "    }\n",
       "\n",
       "    .dataframe thead th {\n",
       "        text-align: right;\n",
       "    }\n",
       "</style>\n",
       "<table border=\"1\" class=\"dataframe\">\n",
       "  <thead>\n",
       "    <tr style=\"text-align: right;\">\n",
       "      <th></th>\n",
       "      <th>Accuracy</th>\n",
       "      <th>Error</th>\n",
       "      <th>F1 Score</th>\n",
       "      <th>AUC</th>\n",
       "      <th>Precision</th>\n",
       "      <th>Recall</th>\n",
       "    </tr>\n",
       "  </thead>\n",
       "  <tbody>\n",
       "    <tr>\n",
       "      <th>0</th>\n",
       "      <td>0.745264</td>\n",
       "      <td>0.254736</td>\n",
       "      <td>0.827828</td>\n",
       "      <td>0.772299</td>\n",
       "      <td>0.731186</td>\n",
       "      <td>0.745264</td>\n",
       "    </tr>\n",
       "  </tbody>\n",
       "</table>\n",
       "</div>"
      ],
      "text/plain": [
       "   Accuracy     Error  F1 Score       AUC  Precision    Recall\n",
       "0  0.745264  0.254736  0.827828  0.772299   0.731186  0.745264"
      ]
     },
     "metadata": {},
     "output_type": "display_data"
    },
    {
     "name": "stdout",
     "output_type": "stream",
     "text": [
      "AdaBoost: Testing Data Binary 500 classifiers\n"
     ]
    },
    {
     "data": {
      "text/html": [
       "<div>\n",
       "<style scoped>\n",
       "    .dataframe tbody tr th:only-of-type {\n",
       "        vertical-align: middle;\n",
       "    }\n",
       "\n",
       "    .dataframe tbody tr th {\n",
       "        vertical-align: top;\n",
       "    }\n",
       "\n",
       "    .dataframe thead th {\n",
       "        text-align: right;\n",
       "    }\n",
       "</style>\n",
       "<table border=\"1\" class=\"dataframe\">\n",
       "  <thead>\n",
       "    <tr style=\"text-align: right;\">\n",
       "      <th></th>\n",
       "      <th>Accuracy</th>\n",
       "      <th>Error</th>\n",
       "      <th>F1 Score</th>\n",
       "      <th>AUC</th>\n",
       "      <th>Precision</th>\n",
       "      <th>Recall</th>\n",
       "    </tr>\n",
       "  </thead>\n",
       "  <tbody>\n",
       "    <tr>\n",
       "      <th>0</th>\n",
       "      <td>0.737739</td>\n",
       "      <td>0.262261</td>\n",
       "      <td>0.822278</td>\n",
       "      <td>0.762077</td>\n",
       "      <td>0.722472</td>\n",
       "      <td>0.737739</td>\n",
       "    </tr>\n",
       "  </tbody>\n",
       "</table>\n",
       "</div>"
      ],
      "text/plain": [
       "   Accuracy     Error  F1 Score       AUC  Precision    Recall\n",
       "0  0.737739  0.262261  0.822278  0.762077   0.722472  0.737739"
      ]
     },
     "metadata": {},
     "output_type": "display_data"
    }
   ],
   "source": [
    "# binary adaboost\n",
    "\n",
    "# define classifier\n",
    "for num_clf in [10, 50, 100, 500]:\n",
    "    adaboost = ABC(n_estimators=num_clf)\n",
    "    adaboost.fit(x_train_binary, y_train_binary)\n",
    "    print_metrics(x_train_binary, y_train_binary, adaboost, \"AdaBoost: Training Data Binary \" + str(num_clf) + \" classifiers\")\n",
    "    print_metrics(x_test_binary, y_test_binary, adaboost, \"AdaBoost: Testing Data Binary \" + str(num_clf) + \" classifiers\")"
   ]
  },
  {
   "cell_type": "markdown",
   "id": "parental-agent",
   "metadata": {},
   "source": [
    "<a id='MLP'></a>\n",
    "### Multi Layer Perceptron Classifier (Neural Network)"
   ]
  },
  {
   "cell_type": "code",
   "execution_count": 21,
   "id": "consistent-moldova",
   "metadata": {},
   "outputs": [],
   "source": [
    "from sklearn.neural_network import MLPClassifier"
   ]
  },
  {
   "cell_type": "code",
   "execution_count": 22,
   "id": "certain-mileage",
   "metadata": {},
   "outputs": [
    {
     "name": "stdout",
     "output_type": "stream",
     "text": [
      "MLP: Training Data Multi Class\n"
     ]
    },
    {
     "data": {
      "text/html": [
       "<div>\n",
       "<style scoped>\n",
       "    .dataframe tbody tr th:only-of-type {\n",
       "        vertical-align: middle;\n",
       "    }\n",
       "\n",
       "    .dataframe tbody tr th {\n",
       "        vertical-align: top;\n",
       "    }\n",
       "\n",
       "    .dataframe thead th {\n",
       "        text-align: right;\n",
       "    }\n",
       "</style>\n",
       "<table border=\"1\" class=\"dataframe\">\n",
       "  <thead>\n",
       "    <tr style=\"text-align: right;\">\n",
       "      <th></th>\n",
       "      <th>Accuracy</th>\n",
       "      <th>Error</th>\n",
       "      <th>F1 Score</th>\n",
       "      <th>Precision</th>\n",
       "      <th>Recall</th>\n",
       "      <th>Cohen Kappa</th>\n",
       "    </tr>\n",
       "  </thead>\n",
       "  <tbody>\n",
       "    <tr>\n",
       "      <th>0</th>\n",
       "      <td>0.318197</td>\n",
       "      <td>0.681803</td>\n",
       "      <td>0.318197</td>\n",
       "      <td>0.340443</td>\n",
       "      <td>0.318197</td>\n",
       "      <td>0.111943</td>\n",
       "    </tr>\n",
       "  </tbody>\n",
       "</table>\n",
       "</div>"
      ],
      "text/plain": [
       "   Accuracy     Error  F1 Score  Precision    Recall  Cohen Kappa\n",
       "0  0.318197  0.681803  0.318197   0.340443  0.318197     0.111943"
      ]
     },
     "metadata": {},
     "output_type": "display_data"
    },
    {
     "name": "stdout",
     "output_type": "stream",
     "text": [
      "MLP: Testing Data Multi Class\n"
     ]
    },
    {
     "data": {
      "text/html": [
       "<div>\n",
       "<style scoped>\n",
       "    .dataframe tbody tr th:only-of-type {\n",
       "        vertical-align: middle;\n",
       "    }\n",
       "\n",
       "    .dataframe tbody tr th {\n",
       "        vertical-align: top;\n",
       "    }\n",
       "\n",
       "    .dataframe thead th {\n",
       "        text-align: right;\n",
       "    }\n",
       "</style>\n",
       "<table border=\"1\" class=\"dataframe\">\n",
       "  <thead>\n",
       "    <tr style=\"text-align: right;\">\n",
       "      <th></th>\n",
       "      <th>Accuracy</th>\n",
       "      <th>Error</th>\n",
       "      <th>F1 Score</th>\n",
       "      <th>Precision</th>\n",
       "      <th>Recall</th>\n",
       "      <th>Cohen Kappa</th>\n",
       "    </tr>\n",
       "  </thead>\n",
       "  <tbody>\n",
       "    <tr>\n",
       "      <th>0</th>\n",
       "      <td>0.319176</td>\n",
       "      <td>0.680824</td>\n",
       "      <td>0.319176</td>\n",
       "      <td>0.200961</td>\n",
       "      <td>0.319176</td>\n",
       "      <td>0.113161</td>\n",
       "    </tr>\n",
       "  </tbody>\n",
       "</table>\n",
       "</div>"
      ],
      "text/plain": [
       "   Accuracy     Error  F1 Score  Precision    Recall  Cohen Kappa\n",
       "0  0.319176  0.680824  0.319176   0.200961  0.319176     0.113161"
      ]
     },
     "metadata": {},
     "output_type": "display_data"
    }
   ],
   "source": [
    "# multi class mlp\n",
    "mlp = MLPClassifier(random_state=1, max_iter=300).fit(x_train, y_train)\n",
    "\n",
    "\n",
    "print_metrics(x_train, y_train, mlp, \"MLP: Training Data Multi Class\", multiclass=True)\n",
    "print_metrics(x_test, y_test, mlp, \"MLP: Testing Data Multi Class\", multiclass=True)"
   ]
  },
  {
   "cell_type": "code",
   "execution_count": 23,
   "id": "athletic-lodging",
   "metadata": {},
   "outputs": [
    {
     "name": "stdout",
     "output_type": "stream",
     "text": [
      "MLP: Training Data Binary\n"
     ]
    },
    {
     "data": {
      "text/html": [
       "<div>\n",
       "<style scoped>\n",
       "    .dataframe tbody tr th:only-of-type {\n",
       "        vertical-align: middle;\n",
       "    }\n",
       "\n",
       "    .dataframe tbody tr th {\n",
       "        vertical-align: top;\n",
       "    }\n",
       "\n",
       "    .dataframe thead th {\n",
       "        text-align: right;\n",
       "    }\n",
       "</style>\n",
       "<table border=\"1\" class=\"dataframe\">\n",
       "  <thead>\n",
       "    <tr style=\"text-align: right;\">\n",
       "      <th></th>\n",
       "      <th>Accuracy</th>\n",
       "      <th>Error</th>\n",
       "      <th>F1 Score</th>\n",
       "      <th>AUC</th>\n",
       "      <th>Precision</th>\n",
       "      <th>Recall</th>\n",
       "    </tr>\n",
       "  </thead>\n",
       "  <tbody>\n",
       "    <tr>\n",
       "      <th>0</th>\n",
       "      <td>0.718638</td>\n",
       "      <td>0.281362</td>\n",
       "      <td>0.82171</td>\n",
       "      <td>0.747654</td>\n",
       "      <td>0.700952</td>\n",
       "      <td>0.718638</td>\n",
       "    </tr>\n",
       "  </tbody>\n",
       "</table>\n",
       "</div>"
      ],
      "text/plain": [
       "   Accuracy     Error  F1 Score       AUC  Precision    Recall\n",
       "0  0.718638  0.281362   0.82171  0.747654   0.700952  0.718638"
      ]
     },
     "metadata": {},
     "output_type": "display_data"
    },
    {
     "name": "stdout",
     "output_type": "stream",
     "text": [
      "MLP: Testing Data Binary\n"
     ]
    },
    {
     "data": {
      "text/html": [
       "<div>\n",
       "<style scoped>\n",
       "    .dataframe tbody tr th:only-of-type {\n",
       "        vertical-align: middle;\n",
       "    }\n",
       "\n",
       "    .dataframe tbody tr th {\n",
       "        vertical-align: top;\n",
       "    }\n",
       "\n",
       "    .dataframe thead th {\n",
       "        text-align: right;\n",
       "    }\n",
       "</style>\n",
       "<table border=\"1\" class=\"dataframe\">\n",
       "  <thead>\n",
       "    <tr style=\"text-align: right;\">\n",
       "      <th></th>\n",
       "      <th>Accuracy</th>\n",
       "      <th>Error</th>\n",
       "      <th>F1 Score</th>\n",
       "      <th>AUC</th>\n",
       "      <th>Precision</th>\n",
       "      <th>Recall</th>\n",
       "    </tr>\n",
       "  </thead>\n",
       "  <tbody>\n",
       "    <tr>\n",
       "      <th>0</th>\n",
       "      <td>0.71774</td>\n",
       "      <td>0.28226</td>\n",
       "      <td>0.821048</td>\n",
       "      <td>0.739926</td>\n",
       "      <td>0.698807</td>\n",
       "      <td>0.71774</td>\n",
       "    </tr>\n",
       "  </tbody>\n",
       "</table>\n",
       "</div>"
      ],
      "text/plain": [
       "   Accuracy    Error  F1 Score       AUC  Precision   Recall\n",
       "0   0.71774  0.28226  0.821048  0.739926   0.698807  0.71774"
      ]
     },
     "metadata": {},
     "output_type": "display_data"
    }
   ],
   "source": [
    "# binary mlp\n",
    "mlp_binary = MLPClassifier(random_state=1, max_iter=300).fit(x_train_binary, y_train_binary)\n",
    "\n",
    "print_metrics(x_train_binary, y_train_binary, mlp_binary, \"MLP: Training Data Binary\")\n",
    "print_metrics(x_test_binary, y_test_binary, mlp_binary, \"MLP: Testing Data Binary\")"
   ]
  },
  {
   "cell_type": "markdown",
   "id": "homeless-grave",
   "metadata": {},
   "source": [
    "<a id='FI'></a>\n",
    "### Feature Importance"
   ]
  },
  {
   "cell_type": "code",
   "execution_count": 24,
   "id": "contained-missile",
   "metadata": {},
   "outputs": [],
   "source": [
    "import matplotlib.pyplot as plt"
   ]
  },
  {
   "cell_type": "code",
   "execution_count": 25,
   "id": "alpine-package",
   "metadata": {},
   "outputs": [],
   "source": [
    "column_names = list(preprocessed_data)"
   ]
  },
  {
   "cell_type": "code",
   "execution_count": 26,
   "id": "aquatic-administration",
   "metadata": {},
   "outputs": [],
   "source": [
    "# mutli class feature importance\n",
    "rand_forest = RFC(n_estimators=250, random_state=42)\n",
    "rand_forest = rand_forest.fit(x_train, y_train)\n",
    "\n",
    "feat_import = rand_forest.feature_importances_\n",
    "imp_df = pd.DataFrame()\n",
    "imp_df['importance'] = feat_import\n",
    "imp_df.index = column_names[1:]"
   ]
  },
  {
   "cell_type": "code",
   "execution_count": 27,
   "id": "impaired-bulletin",
   "metadata": {},
   "outputs": [
    {
     "data": {
      "text/plain": [
       "Text(0, 0.5, 'Importance')"
      ]
     },
     "execution_count": 27,
     "metadata": {},
     "output_type": "execute_result"
    },
    {
     "data": {
      "image/png": "[encoded data removed]",
      "text/plain": [
       "<Figure size 720x360 with 1 Axes>"
      ]
     },
     "metadata": {
      "needs_background": "light"
     },
     "output_type": "display_data"
    }
   ],
   "source": [
    "# plotting graph\n",
    "importances = pd.Series(feat_import, index=column_names[1:])\n",
    "fig, ax = plt.subplots(figsize=(10, 5))\n",
    "importances.plot.bar(ax=ax)\n",
    "ax.set_title('Random Forest Multi Class Classifier Feature Importance')\n",
    "ax.set_xlabel('Feature')\n",
    "ax.set_ylabel('Importance')"
   ]
  },
  {
   "cell_type": "code",
   "execution_count": 28,
   "id": "bridal-setup",
   "metadata": {},
   "outputs": [],
   "source": [
    "column_names = list(preprocessed_data_binary)"
   ]
  },
  {
   "cell_type": "code",
   "execution_count": 29,
   "id": "knowing-summer",
   "metadata": {},
   "outputs": [],
   "source": [
    "# binary feature importance\n",
    "rand_forest = RFC(n_estimators=250, random_state=42)\n",
    "rand_forest = rand_forest.fit(x_train_binary, y_train_binary)\n",
    "\n",
    "feat_import = rand_forest.feature_importances_\n",
    "imp_df = pd.DataFrame()\n",
    "imp_df['importance'] = feat_import\n",
    "imp_df.index = column_names[:2] + column_names[2+1:]"
   ]
  },
  {
   "cell_type": "code",
   "execution_count": 30,
   "id": "separate-scanning",
   "metadata": {},
   "outputs": [
    {
     "data": {
      "text/plain": [
       "Text(0, 0.5, 'Importance')"
      ]
     },
     "execution_count": 30,
     "metadata": {},
     "output_type": "execute_result"
    },
    {
     "data": {
      "image/png": "[encoded data removed]",
      "text/plain": [
       "<Figure size 720x360 with 1 Axes>"
      ]
     },
     "metadata": {
      "needs_background": "light"
     },
     "output_type": "display_data"
    }
   ],
   "source": [
    "# plotting graph\n",
    "importances = pd.Series(feat_import, index=column_names[:2] + column_names[2+1:])\n",
    "fig, ax = plt.subplots(figsize=(10, 5))\n",
    "importances.plot.bar(ax=ax)\n",
    "ax.set_title('Random Forest Binary Classifier Feature Importance')\n",
    "ax.set_xlabel('Feature')\n",
    "ax.set_ylabel('Importance')"
   ]
  },
  {
   "cell_type": "markdown",
   "id": "dependent-vietnam",
   "metadata": {},
   "source": [
    "<a id='Curves'></a>\n",
    "### ROC Curves"
   ]
  },
  {
   "cell_type": "code",
   "execution_count": 31,
   "id": "rubber-checklist",
   "metadata": {},
   "outputs": [],
   "source": [
    "from sklearn import metrics\n",
    "from sklearn.metrics import plot_roc_curve"
   ]
  },
  {
   "cell_type": "code",
   "execution_count": 32,
   "id": "vocal-graph",
   "metadata": {},
   "outputs": [],
   "source": [
    "# ROC curve: Logistic Regression Binary\n",
    "logistic_reg_binary = LogisticRegression(max_iter=10000, solver='sag')\n",
    "logistic_reg_binary = logistic_reg_binary.fit(x_train_binary, y_train_binary)"
   ]
  },
  {
   "cell_type": "code",
   "execution_count": 33,
   "id": "descending-prisoner",
   "metadata": {},
   "outputs": [],
   "source": [
    "# ROC curve: Decision Tree Binary\n",
    "dtc = DTC(random_state=0, criterion='gini')\n",
    "dtc = dtc.fit(x_train_binary, y_train_binary)"
   ]
  },
  {
   "cell_type": "code",
   "execution_count": 34,
   "id": "extreme-trader",
   "metadata": {},
   "outputs": [],
   "source": [
    "# ROC curve: Random Forest Binary\n",
    "rfc = RFC(n_estimators=250, random_state=42, criterion='entropy')\n",
    "rfc = rfc.fit(x_train_binary, y_train_binary)"
   ]
  },
  {
   "cell_type": "code",
   "execution_count": 35,
   "id": "baking-quebec",
   "metadata": {},
   "outputs": [],
   "source": [
    "# ROC curve: AdaBoost Binary\n",
    "abc = ABC(n_estimators=100)\n",
    "abc = abc.fit(x_train_binary, y_train_binary)"
   ]
  },
  {
   "cell_type": "code",
   "execution_count": 36,
   "id": "handled-thumbnail",
   "metadata": {},
   "outputs": [],
   "source": [
    "# ROC curve: MLP Binary\n",
    "mlp = MLPClassifier(random_state=1, max_iter=300).fit(x_train_binary, y_train_binary)"
   ]
  },
  {
   "cell_type": "code",
   "execution_count": 37,
   "id": "measured-despite",
   "metadata": {},
   "outputs": [
    {
     "data": {
      "text/plain": [
       "Text(0.5, 1.0, 'ROC Curve Comparison for Binary Classification Models')"
      ]
     },
     "execution_count": 37,
     "metadata": {},
     "output_type": "execute_result"
    },
    {
     "data": {
      "image/png": "[encoded data removed]",
      "text/plain": [
       "<Figure size 432x288 with 1 Axes>"
      ]
     },
     "metadata": {
      "needs_background": "light"
     },
     "output_type": "display_data"
    }
   ],
   "source": [
    "# all models in a list\n",
    "curves = [logistic_reg_binary, dtc, rfc, abc, mlp]\n",
    "\n",
    "# iterate through each model and plot the curve\n",
    "ax = plt.gca()\n",
    "for c in curves:\n",
    "    plot_roc_curve(c, x_test_binary, y_test_binary, ax=ax)\n",
    "\n",
    "plt.title('ROC Curve Comparison for Binary Classification Models')"
   ]
  }
 ],
 "metadata": {
  "kernelspec": {
   "display_name": "Python 3",
   "language": "python",
   "name": "python3"
  },
  "language_info": {
   "codemirror_mode": {
    "name": "ipython",
    "version": 3
   },
   "file_extension": ".py",
   "mimetype": "text/x-python",
   "name": "python",
   "nbconvert_exporter": "python",
   "pygments_lexer": "ipython3",
   "version": "3.8.5"
  }
 },
 "nbformat": 4,
 "nbformat_minor": 5
}
