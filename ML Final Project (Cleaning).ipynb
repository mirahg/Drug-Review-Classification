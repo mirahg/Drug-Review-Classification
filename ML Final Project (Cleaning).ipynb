{
 "cells": [
  {
   "cell_type": "markdown",
   "id": "least-bones",
   "metadata": {},
   "source": [
    "# DS4400 Final Project - Cleaning\n",
    "## Mirah Gordon, Genny Jawor, Caterina Wang"
   ]
  },
  {
   "cell_type": "markdown",
   "id": "passive-nickel",
   "metadata": {},
   "source": [
    "This notebook is dedicated to loading data, cleaning data, doing preliminary exploration, feature extraction, and pre-processing the data to transform it into its final form. The output of this notebook will be a **csv file** that will be used in the accompanying **models** notebook, where all models and metrics are housed. "
   ]
  },
  {
   "cell_type": "markdown",
   "id": "polish-excellence",
   "metadata": {},
   "source": [
    "Note: any cells with code that is completely commented out is there to show the process in which we obtained the data or other performed cleaning on the data but only needed to be run once and therefore is commented as to not interfere with future running of the kernel."
   ]
  },
  {
   "cell_type": "markdown",
   "id": "exterior-details",
   "metadata": {},
   "source": [
    "## Table of Contents\n",
    "* [Loading Data](#LD)\n",
    "* [Exploratory Data Analysis](#DA)\n",
    "* [Data Cleaning](#DC)\n",
    "* [NLP](#NLP)\n",
    "* [Pre-Processing](#PP)\n",
    "* [Exports](#Exports)"
   ]
  },
  {
   "cell_type": "markdown",
   "id": "rural-typing",
   "metadata": {},
   "source": [
    "<a id='LD'></a>\n",
    "### Loading Data"
   ]
  },
  {
   "cell_type": "code",
   "execution_count": 1,
   "id": "looking-timing",
   "metadata": {},
   "outputs": [],
   "source": [
    "import pandas as pd\n",
    "import numpy as np\n",
    "from collections import Counter\n",
    "import matplotlib.pyplot as plt"
   ]
  },
  {
   "cell_type": "code",
   "execution_count": 2,
   "id": "processed-dispute",
   "metadata": {},
   "outputs": [],
   "source": [
    "# load the drugs test csv as a df\n",
    "# drugs_test = pd.read_csv('drugs_test.csv', encoding='utf-8')\n",
    "# load the durgs train csv as a df\n",
    "# drugs_train = pd.read_csv('drugs_train.csv', encoding='utf-8')"
   ]
  },
  {
   "cell_type": "code",
   "execution_count": 3,
   "id": "stone-harmony",
   "metadata": {},
   "outputs": [],
   "source": [
    "# combine test and train datasets into one complete dataframe\n",
    "# drugs = pd.concat([drugs_test, drugs_train])\n",
    "# drugs.to_csv('drugs.csv',index=False)"
   ]
  },
  {
   "cell_type": "code",
   "execution_count": 4,
   "id": "lesbian-pacific",
   "metadata": {},
   "outputs": [],
   "source": [
    "# load the combined drugs dataset\n",
    "# drugs = pd.read_csv('drugs.csv')"
   ]
  },
  {
   "cell_type": "code",
   "execution_count": 5,
   "id": "sunrise-fleece",
   "metadata": {},
   "outputs": [
    {
     "data": {
      "text/html": [
       "<div>\n",
       "<style scoped>\n",
       "    .dataframe tbody tr th:only-of-type {\n",
       "        vertical-align: middle;\n",
       "    }\n",
       "\n",
       "    .dataframe tbody tr th {\n",
       "        vertical-align: top;\n",
       "    }\n",
       "\n",
       "    .dataframe thead th {\n",
       "        text-align: right;\n",
       "    }\n",
       "</style>\n",
       "<table border=\"1\" class=\"dataframe\">\n",
       "  <thead>\n",
       "    <tr style=\"text-align: right;\">\n",
       "      <th></th>\n",
       "      <th>drugName</th>\n",
       "      <th>condition</th>\n",
       "      <th>review</th>\n",
       "      <th>rating</th>\n",
       "      <th>date</th>\n",
       "      <th>usefulCount</th>\n",
       "    </tr>\n",
       "  </thead>\n",
       "  <tbody>\n",
       "    <tr>\n",
       "      <th>0</th>\n",
       "      <td>Mirtazapine</td>\n",
       "      <td>Depression</td>\n",
       "      <td>\"I've tried a few antidepressants over the yea...</td>\n",
       "      <td>10.0</td>\n",
       "      <td>February 28, 2012</td>\n",
       "      <td>22</td>\n",
       "    </tr>\n",
       "    <tr>\n",
       "      <th>1</th>\n",
       "      <td>Mesalamine</td>\n",
       "      <td>Crohn's Disease, Maintenance</td>\n",
       "      <td>\"My son has Crohn's disease and has done very ...</td>\n",
       "      <td>8.0</td>\n",
       "      <td>May 17, 2009</td>\n",
       "      <td>17</td>\n",
       "    </tr>\n",
       "    <tr>\n",
       "      <th>2</th>\n",
       "      <td>Bactrim</td>\n",
       "      <td>Urinary Tract Infection</td>\n",
       "      <td>\"Quick reduction of symptoms\"</td>\n",
       "      <td>9.0</td>\n",
       "      <td>September 29, 2017</td>\n",
       "      <td>3</td>\n",
       "    </tr>\n",
       "    <tr>\n",
       "      <th>3</th>\n",
       "      <td>Contrave</td>\n",
       "      <td>Weight Loss</td>\n",
       "      <td>\"Contrave combines drugs that were used for al...</td>\n",
       "      <td>9.0</td>\n",
       "      <td>March 5, 2017</td>\n",
       "      <td>35</td>\n",
       "    </tr>\n",
       "    <tr>\n",
       "      <th>4</th>\n",
       "      <td>Cyclafem 1 / 35</td>\n",
       "      <td>Birth Control</td>\n",
       "      <td>\"I have been on this birth control for one cyc...</td>\n",
       "      <td>9.0</td>\n",
       "      <td>October 22, 2015</td>\n",
       "      <td>4</td>\n",
       "    </tr>\n",
       "  </tbody>\n",
       "</table>\n",
       "</div>"
      ],
      "text/plain": [
       "          drugName                     condition  \\\n",
       "0      Mirtazapine                    Depression   \n",
       "1       Mesalamine  Crohn's Disease, Maintenance   \n",
       "2          Bactrim       Urinary Tract Infection   \n",
       "3         Contrave                   Weight Loss   \n",
       "4  Cyclafem 1 / 35                 Birth Control   \n",
       "\n",
       "                                              review  rating  \\\n",
       "0  \"I've tried a few antidepressants over the yea...    10.0   \n",
       "1  \"My son has Crohn's disease and has done very ...     8.0   \n",
       "2                      \"Quick reduction of symptoms\"     9.0   \n",
       "3  \"Contrave combines drugs that were used for al...     9.0   \n",
       "4  \"I have been on this birth control for one cyc...     9.0   \n",
       "\n",
       "                 date  usefulCount  \n",
       "0   February 28, 2012           22  \n",
       "1        May 17, 2009           17  \n",
       "2  September 29, 2017            3  \n",
       "3       March 5, 2017           35  \n",
       "4    October 22, 2015            4  "
      ]
     },
     "execution_count": 5,
     "metadata": {},
     "output_type": "execute_result"
    }
   ],
   "source": [
    "# load the cleaned dataset to use in analysis and models\n",
    "drugs = pd.read_csv('drugs_clean.csv')\n",
    "drugs.drop(columns=['Unnamed: 0'], inplace=True)\n",
    "drugs.head()"
   ]
  },
  {
   "cell_type": "markdown",
   "id": "young-enough",
   "metadata": {},
   "source": [
    "<a id='DA'></a>\n",
    "### Exploratory Data Analysis"
   ]
  },
  {
   "cell_type": "code",
   "execution_count": 6,
   "id": "rational-veteran",
   "metadata": {},
   "outputs": [
    {
     "name": "stdout",
     "output_type": "stream",
     "text": [
      "Number of unique conditions: 837\n"
     ]
    }
   ],
   "source": [
    "# find the number of unique conditions\n",
    "unique_con = len(pd.unique(drugs['condition']))\n",
    "print(\"Number of unique conditions: \" + str(unique_con))"
   ]
  },
  {
   "cell_type": "code",
   "execution_count": 7,
   "id": "worse-clear",
   "metadata": {},
   "outputs": [
    {
     "name": "stdout",
     "output_type": "stream",
     "text": [
      "Number of unique drugs: 3658\n"
     ]
    }
   ],
   "source": [
    "# find the number of unique drugs\n",
    "unique_drug = len(pd.unique(drugs['drugName']))\n",
    "print(\"Number of unique drugs: \" + str(unique_drug))"
   ]
  },
  {
   "cell_type": "code",
   "execution_count": 8,
   "id": "plastic-investment",
   "metadata": {},
   "outputs": [
    {
     "data": {
      "text/plain": [
       "[('Birth Control', 38436),\n",
       " ('Depression', 12164),\n",
       " ('Pain', 8245),\n",
       " ('Anxiety', 7812),\n",
       " ('Acne', 7435),\n",
       " ('Bipolar Disorde', 5604),\n",
       " ('Insomnia', 4904),\n",
       " ('Weight Loss', 4857),\n",
       " ('Obesity', 4757),\n",
       " ('ADHD', 4509),\n",
       " ('Diabetes, Type 2', 3362),\n",
       " ('Emergency Contraception', 3290),\n",
       " ('High Blood Pressure', 3104),\n",
       " ('Vaginal Yeast Infection', 3085),\n",
       " ('Abnormal Uterine Bleeding', 2744),\n",
       " ('Bowel Preparation', 2498),\n",
       " ('Smoking Cessation', 2440),\n",
       " ('ibromyalgia', 2370),\n",
       " ('Migraine', 2277),\n",
       " ('Anxiety and Stress', 2236),\n",
       " ('Major Depressive Disorde', 2131),\n",
       " ('Constipation', 2120),\n",
       " ('Chronic Pain', 1940),\n",
       " ('Panic Disorde', 1932),\n",
       " ('Migraine Prevention', 1867),\n",
       " ('Urinary Tract Infection', 1747),\n",
       " ('Muscle Spasm', 1631),\n",
       " ('Osteoarthritis', 1626),\n",
       " ('Generalized Anxiety Disorde', 1542),\n",
       " ('Opiate Dependence', 1477),\n",
       " ('Erectile Dysfunction', 1467),\n",
       " ('Irritable Bowel Syndrome', 1339),\n",
       " ('Allergic Rhinitis', 1323),\n",
       " ('Rheumatoid Arthritis', 1315),\n",
       " ('Bacterial Infection', 1252),\n",
       " ('Cough', 1224),\n",
       " (nan, 1194),\n",
       " ('Sinusitis', 1124),\n",
       " ('Nausea/Vomiting', 1013),\n",
       " ('GERD', 968),\n",
       " ('Hyperhidrosis', 917),\n",
       " ('Overactive Bladde', 917),\n",
       " ('Multiple Sclerosis', 913),\n",
       " ('Hepatitis C', 901),\n",
       " ('HIV Infection', 817),\n",
       " ('High Cholesterol', 817),\n",
       " ('Back Pain', 808),\n",
       " ('Restless Legs Syndrome', 805),\n",
       " ('Psoriasis', 796),\n",
       " ('Schizophrenia', 789)]"
      ]
     },
     "execution_count": 8,
     "metadata": {},
     "output_type": "execute_result"
    }
   ],
   "source": [
    "# list most common condition in descending order\n",
    "c = Counter(drugs['condition'].tolist())\n",
    "con_list = list(c.most_common())\n",
    "con_list[:50]"
   ]
  },
  {
   "cell_type": "code",
   "execution_count": 9,
   "id": "reverse-school",
   "metadata": {},
   "outputs": [
    {
     "name": "stdout",
     "output_type": "stream",
     "text": [
      "{'Birth Control': 38436, 'Depression': 12164, 'Pain': 8245, 'Anxiety': 7812, 'Acne': 7435, 'Bipolar Disorde': 5604, 'Insomnia': 4904, 'Weight Loss': 4857, 'Obesity': 4757, 'ADHD': 4509}\n"
     ]
    }
   ],
   "source": [
    "# find the 10 top conditions based on number of occurences in the data\n",
    "top_10 = con_list[:10]\n",
    "total_rows = 0\n",
    "for con in top_10:\n",
    "    con_count = con[1]\n",
    "    total_rows += con_count\n",
    "\n",
    "top_10 = dict(top_10)\n",
    "print(top_10)"
   ]
  },
  {
   "cell_type": "code",
   "execution_count": 10,
   "id": "provincial-decision",
   "metadata": {},
   "outputs": [
    {
     "data": {
      "text/html": [
       "<div>\n",
       "<style scoped>\n",
       "    .dataframe tbody tr th:only-of-type {\n",
       "        vertical-align: middle;\n",
       "    }\n",
       "\n",
       "    .dataframe tbody tr th {\n",
       "        vertical-align: top;\n",
       "    }\n",
       "\n",
       "    .dataframe thead th {\n",
       "        text-align: right;\n",
       "    }\n",
       "</style>\n",
       "<table border=\"1\" class=\"dataframe\">\n",
       "  <thead>\n",
       "    <tr style=\"text-align: right;\">\n",
       "      <th></th>\n",
       "      <th>drugName</th>\n",
       "      <th>condition</th>\n",
       "      <th>review</th>\n",
       "      <th>rating</th>\n",
       "      <th>date</th>\n",
       "      <th>usefulCount</th>\n",
       "    </tr>\n",
       "  </thead>\n",
       "  <tbody>\n",
       "    <tr>\n",
       "      <th>0</th>\n",
       "      <td>Mirtazapine</td>\n",
       "      <td>Depression</td>\n",
       "      <td>\"I've tried a few antidepressants over the yea...</td>\n",
       "      <td>10.0</td>\n",
       "      <td>February 28, 2012</td>\n",
       "      <td>22</td>\n",
       "    </tr>\n",
       "    <tr>\n",
       "      <th>3</th>\n",
       "      <td>Contrave</td>\n",
       "      <td>Weight Loss</td>\n",
       "      <td>\"Contrave combines drugs that were used for al...</td>\n",
       "      <td>9.0</td>\n",
       "      <td>March 5, 2017</td>\n",
       "      <td>35</td>\n",
       "    </tr>\n",
       "    <tr>\n",
       "      <th>4</th>\n",
       "      <td>Cyclafem 1 / 35</td>\n",
       "      <td>Birth Control</td>\n",
       "      <td>\"I have been on this birth control for one cyc...</td>\n",
       "      <td>9.0</td>\n",
       "      <td>October 22, 2015</td>\n",
       "      <td>4</td>\n",
       "    </tr>\n",
       "    <tr>\n",
       "      <th>6</th>\n",
       "      <td>Copper</td>\n",
       "      <td>Birth Control</td>\n",
       "      <td>\"I've had the copper coil for about 3 months n...</td>\n",
       "      <td>6.0</td>\n",
       "      <td>June 6, 2016</td>\n",
       "      <td>1</td>\n",
       "    </tr>\n",
       "    <tr>\n",
       "      <th>9</th>\n",
       "      <td>Levora</td>\n",
       "      <td>Birth Control</td>\n",
       "      <td>\"I was on this pill for almost two years. It d...</td>\n",
       "      <td>2.0</td>\n",
       "      <td>April 16, 2011</td>\n",
       "      <td>3</td>\n",
       "    </tr>\n",
       "  </tbody>\n",
       "</table>\n",
       "</div>"
      ],
      "text/plain": [
       "          drugName      condition  \\\n",
       "0      Mirtazapine     Depression   \n",
       "3         Contrave    Weight Loss   \n",
       "4  Cyclafem 1 / 35  Birth Control   \n",
       "6           Copper  Birth Control   \n",
       "9           Levora  Birth Control   \n",
       "\n",
       "                                              review  rating  \\\n",
       "0  \"I've tried a few antidepressants over the yea...    10.0   \n",
       "3  \"Contrave combines drugs that were used for al...     9.0   \n",
       "4  \"I have been on this birth control for one cyc...     9.0   \n",
       "6  \"I've had the copper coil for about 3 months n...     6.0   \n",
       "9  \"I was on this pill for almost two years. It d...     2.0   \n",
       "\n",
       "                date  usefulCount  \n",
       "0  February 28, 2012           22  \n",
       "3      March 5, 2017           35  \n",
       "4   October 22, 2015            4  \n",
       "6       June 6, 2016            1  \n",
       "9     April 16, 2011            3  "
      ]
     },
     "execution_count": 10,
     "metadata": {},
     "output_type": "execute_result"
    }
   ],
   "source": [
    "# filter the dataset to include only the top conditions\n",
    "top_10_name = list(top_10.keys())\n",
    "top_drugs = drugs[drugs['condition'].isin(top_10_name)]\n",
    "\n",
    "top_drugs.head()"
   ]
  },
  {
   "cell_type": "code",
   "execution_count": 11,
   "id": "damaged-million",
   "metadata": {},
   "outputs": [
    {
     "name": "stdout",
     "output_type": "stream",
     "text": [
      "Number of unique drugs within the top 10 conditions:  815\n"
     ]
    }
   ],
   "source": [
    "# find the number of unique drugs for 10 top conditions\n",
    "unique_drugs = np.unique(top_drugs['drugName'])\n",
    "print(\"Number of unique drugs within the top 10 conditions: \", len(unique_drugs))"
   ]
  },
  {
   "cell_type": "code",
   "execution_count": 12,
   "id": "classical-naples",
   "metadata": {
    "scrolled": true
   },
   "outputs": [
    {
     "data": {
      "image/png": "[encoded data removed]",
      "text/plain": [
       "<Figure size 432x288 with 1 Axes>"
      ]
     },
     "metadata": {
      "needs_background": "light"
     },
     "output_type": "display_data"
    }
   ],
   "source": [
    "# graph relationship between rating and useful count \n",
    "plt.bar(top_drugs['rating'][:10000], top_drugs['usefulCount'][:10000])\n",
    "plt.xlabel(\"Rating\")\n",
    "plt.ylabel(\"Useful Count\")\n",
    "plt.title(\"Relationship between Rating and Useful Count for top 10 Reviewed Drugs\")\n",
    "plt.show()"
   ]
  },
  {
   "cell_type": "markdown",
   "id": "rocky-australia",
   "metadata": {},
   "source": [
    "<a id='DC'></a>\n",
    "### Data Cleaning"
   ]
  },
  {
   "cell_type": "code",
   "execution_count": 13,
   "id": "stretch-tuesday",
   "metadata": {},
   "outputs": [],
   "source": [
    "# replace characters encoded improperly in dataframe with utf-8 coding \n",
    "# for index, row in drugs.iterrows():\n",
    "    # row['review'] = row['review'].replace(\"&#039;\", \"'\").replace(\"&amp;\", \"&\").replace(\"&quot;\", '\"').replace(\"&rsquo;\", \"'\").replace(\"&lt;\", \"<\").replace(\"&gt;\", \">\")\n",
    "    # drugs.at[index,'review'] = row['review']"
   ]
  },
  {
   "cell_type": "code",
   "execution_count": 14,
   "id": "exceptional-madrid",
   "metadata": {},
   "outputs": [],
   "source": [
    "# save the cleaned drugs df as a new csv\n",
    "# drugs.to_csv('drugs_clean.csv',index=False)"
   ]
  },
  {
   "cell_type": "code",
   "execution_count": 15,
   "id": "overall-binding",
   "metadata": {},
   "outputs": [],
   "source": [
    "# drop any rows that </span> as condition \n",
    "# for index, row in drugs_clean.iterrows():\n",
    "    # if \"</span>\" in str(row['condition']):\n",
    "        # drugs_clean.drop(index, inplace=True)"
   ]
  },
  {
   "cell_type": "code",
   "execution_count": 16,
   "id": "banner-authority",
   "metadata": {},
   "outputs": [],
   "source": [
    "# save the final cleaned df as a csv copy \n",
    "# drugs_clean.to_csv('drugs_clean', index=False)"
   ]
  },
  {
   "cell_type": "markdown",
   "id": "sacred-somerset",
   "metadata": {},
   "source": [
    "<a id='NLP'></a>\n",
    "### Natural Language Processing"
   ]
  },
  {
   "cell_type": "code",
   "execution_count": 17,
   "id": "written-possibility",
   "metadata": {},
   "outputs": [
    {
     "name": "stdout",
     "output_type": "stream",
     "text": [
      "{'into', \"i've\", \"you'd\", 'own', 'those', 'isn', 'then', 'above', 'were', 'through', \"hadn't\", 'them', 'a', 'here', 'be', 'just', 'between', 'can', 'down', 'out', 'haven', 'again', 'couldn', 'yourself', 've', 'at', 't', 'being', 'because', 'against', 'during', 'or', '\"', 'm', 'are', \"should've\", 're', 'shouldn', 'himself', 'such', 'other', 'our', 'in', 'he', 'nor', \"you've\", 'she', 'theirs', 'what', 'too', 'll', 'after', \"shan't\", 'they', 'how', 'doing', 'mustn', 'doesn', 'to', 'the', 'further', 'now', \"she's\", 'yours', 'with', 'so', \"weren't\", 'him', 'had', 'wasn', 'these', 'o', \"aren't\", 'same', 'ourselves', 'has', 'both', 'than', 'any', 'not', 'hasn', 'very', 'most', 'needn', 'for', 'only', 'won', \"that'll\", 'few', \"wasn't\", 'her', 'ours', 'that', 'weren', 'under', 'why', 'did', 'from', 'their', 'no', 'of', 'ma', 'don', 'until', 'where', 'having', 'd', 'some', \"doesn't\", 'am', 'was', \"you're\", 'my', 'themselves', 'as', 'when', 'but', 'about', 'have', 'its', 'will', 'shan', \"won't\", \"you'll\", 'been', 'itself', 'which', \"isn't\", 'off', 'by', 'i', 'below', \"didn't\", \"haven't\", 'yourselves', 'does', 'an', 'who', 'and', 'hadn', 'more', 'it', \"mustn't\", 'myself', 'before', 'should', 'on', 'over', 'whom', 'all', 's', 'wouldn', \"needn't\", 'this', 'we', 'up', \"it's\", 'each', 'aren', \"wouldn't\", 'your', 'ain', 'you', \"hasn't\", \"shouldn't\", 'is', 'if', 'mightn', \"don't\", 'his', \"mightn't\", 'y', 'me', 'while', 'hers', 'once', \"couldn't\", 'didn', 'there', 'do', 'herself'}\n"
     ]
    },
    {
     "name": "stderr",
     "output_type": "stream",
     "text": [
      "[nltk_data] Downloading package vader_lexicon to\n",
      "[nltk_data]     /Users/mirahgordon/nltk_data...\n",
      "[nltk_data]   Package vader_lexicon is already up-to-date!\n",
      "[nltk_data] Downloading package stopwords to\n",
      "[nltk_data]     /Users/mirahgordon/nltk_data...\n",
      "[nltk_data]   Package stopwords is already up-to-date!\n",
      "[nltk_data] Downloading package punkt to\n",
      "[nltk_data]     /Users/mirahgordon/nltk_data...\n",
      "[nltk_data]   Package punkt is already up-to-date!\n"
     ]
    }
   ],
   "source": [
    "# nltk imports\n",
    "import nltk\n",
    "import re\n",
    "nltk.download('vader_lexicon')\n",
    "from nltk.corpus import stopwords\n",
    "nltk.download('stopwords')\n",
    "from nltk.tokenize import word_tokenize\n",
    "nltk.download('punkt')\n",
    "set_stopwords = set(stopwords.words('english'))\n",
    "set_stopwords.update([\"i've\", '\"'])\n",
    "print(set_stopwords)"
   ]
  },
  {
   "cell_type": "code",
   "execution_count": 18,
   "id": "distinguished-investigator",
   "metadata": {},
   "outputs": [
    {
     "name": "stderr",
     "output_type": "stream",
     "text": [
      "<ipython-input-18-05e92bdc2eb0>:2: SettingWithCopyWarning: \n",
      "A value is trying to be set on a copy of a slice from a DataFrame.\n",
      "Try using .loc[row_indexer,col_indexer] = value instead\n",
      "\n",
      "See the caveats in the documentation: https://pandas.pydata.org/pandas-docs/stable/user_guide/indexing.html#returning-a-view-versus-a-copy\n",
      "  top_drugs['review'] = top_drugs['review'].apply(lambda x: (\" \").join([word for word in re.split(' |\"', x) if not word.lower() in set_stopwords]))\n"
     ]
    },
    {
     "data": {
      "text/html": [
       "<div>\n",
       "<style scoped>\n",
       "    .dataframe tbody tr th:only-of-type {\n",
       "        vertical-align: middle;\n",
       "    }\n",
       "\n",
       "    .dataframe tbody tr th {\n",
       "        vertical-align: top;\n",
       "    }\n",
       "\n",
       "    .dataframe thead th {\n",
       "        text-align: right;\n",
       "    }\n",
       "</style>\n",
       "<table border=\"1\" class=\"dataframe\">\n",
       "  <thead>\n",
       "    <tr style=\"text-align: right;\">\n",
       "      <th></th>\n",
       "      <th>drugName</th>\n",
       "      <th>condition</th>\n",
       "      <th>review</th>\n",
       "      <th>rating</th>\n",
       "      <th>date</th>\n",
       "      <th>usefulCount</th>\n",
       "    </tr>\n",
       "  </thead>\n",
       "  <tbody>\n",
       "    <tr>\n",
       "      <th>0</th>\n",
       "      <td>Mirtazapine</td>\n",
       "      <td>Depression</td>\n",
       "      <td>tried antidepressants years (citalopram, fluo...</td>\n",
       "      <td>10.0</td>\n",
       "      <td>February 28, 2012</td>\n",
       "      <td>22</td>\n",
       "    </tr>\n",
       "    <tr>\n",
       "      <th>3</th>\n",
       "      <td>Contrave</td>\n",
       "      <td>Weight Loss</td>\n",
       "      <td>Contrave combines drugs used alcohol, smoking...</td>\n",
       "      <td>9.0</td>\n",
       "      <td>March 5, 2017</td>\n",
       "      <td>35</td>\n",
       "    </tr>\n",
       "    <tr>\n",
       "      <th>4</th>\n",
       "      <td>Cyclafem 1 / 35</td>\n",
       "      <td>Birth Control</td>\n",
       "      <td>birth control one cycle. reading reviews type...</td>\n",
       "      <td>9.0</td>\n",
       "      <td>October 22, 2015</td>\n",
       "      <td>4</td>\n",
       "    </tr>\n",
       "    <tr>\n",
       "      <th>6</th>\n",
       "      <td>Copper</td>\n",
       "      <td>Birth Control</td>\n",
       "      <td>copper coil 3 months now. really excited thou...</td>\n",
       "      <td>6.0</td>\n",
       "      <td>June 6, 2016</td>\n",
       "      <td>1</td>\n",
       "    </tr>\n",
       "    <tr>\n",
       "      <th>9</th>\n",
       "      <td>Levora</td>\n",
       "      <td>Birth Control</td>\n",
       "      <td>pill almost two years. work far getting pregn...</td>\n",
       "      <td>2.0</td>\n",
       "      <td>April 16, 2011</td>\n",
       "      <td>3</td>\n",
       "    </tr>\n",
       "  </tbody>\n",
       "</table>\n",
       "</div>"
      ],
      "text/plain": [
       "          drugName      condition  \\\n",
       "0      Mirtazapine     Depression   \n",
       "3         Contrave    Weight Loss   \n",
       "4  Cyclafem 1 / 35  Birth Control   \n",
       "6           Copper  Birth Control   \n",
       "9           Levora  Birth Control   \n",
       "\n",
       "                                              review  rating  \\\n",
       "0   tried antidepressants years (citalopram, fluo...    10.0   \n",
       "3   Contrave combines drugs used alcohol, smoking...     9.0   \n",
       "4   birth control one cycle. reading reviews type...     9.0   \n",
       "6   copper coil 3 months now. really excited thou...     6.0   \n",
       "9   pill almost two years. work far getting pregn...     2.0   \n",
       "\n",
       "                date  usefulCount  \n",
       "0  February 28, 2012           22  \n",
       "3      March 5, 2017           35  \n",
       "4   October 22, 2015            4  \n",
       "6       June 6, 2016            1  \n",
       "9     April 16, 2011            3  "
      ]
     },
     "execution_count": 18,
     "metadata": {},
     "output_type": "execute_result"
    }
   ],
   "source": [
    "# remove stopwords from the review text\n",
    "top_drugs['review'] = top_drugs['review'].apply(lambda x: (\" \").join([word for word in re.split(' |\"', x) if not word.lower() in set_stopwords]))\n",
    "\n",
    "top_drugs.head()"
   ]
  },
  {
   "cell_type": "code",
   "execution_count": 19,
   "id": "capital-young",
   "metadata": {},
   "outputs": [],
   "source": [
    "# run sentiment analysis on the review text and calculate the polarity score\n",
    "from nltk.sentiment.vader import SentimentIntensityAnalyzer\n",
    "sia = SentimentIntensityAnalyzer()\n",
    "\n",
    "compound_list = []\n",
    "for index, row in top_drugs.iterrows():\n",
    "    review = row['review']\n",
    "    # save the composite score to the list\n",
    "    compound = sia.polarity_scores(review)['compound']\n",
    "    compound_list.append(compound)"
   ]
  },
  {
   "cell_type": "code",
   "execution_count": 20,
   "id": "supreme-explosion",
   "metadata": {},
   "outputs": [
    {
     "name": "stderr",
     "output_type": "stream",
     "text": [
      "<ipython-input-20-b6becc49e3d6>:2: SettingWithCopyWarning: \n",
      "A value is trying to be set on a copy of a slice from a DataFrame.\n",
      "Try using .loc[row_indexer,col_indexer] = value instead\n",
      "\n",
      "See the caveats in the documentation: https://pandas.pydata.org/pandas-docs/stable/user_guide/indexing.html#returning-a-view-versus-a-copy\n",
      "  top_drugs['compound'] = compound_list\n"
     ]
    }
   ],
   "source": [
    "# add new column for the compound score \n",
    "top_drugs['compound'] = compound_list"
   ]
  },
  {
   "cell_type": "code",
   "execution_count": 21,
   "id": "utility-river",
   "metadata": {},
   "outputs": [
    {
     "name": "stderr",
     "output_type": "stream",
     "text": [
      "<ipython-input-21-cb5405bd136f>:13: SettingWithCopyWarning: \n",
      "A value is trying to be set on a copy of a slice from a DataFrame.\n",
      "Try using .loc[row_indexer,col_indexer] = value instead\n",
      "\n",
      "See the caveats in the documentation: https://pandas.pydata.org/pandas-docs/stable/user_guide/indexing.html#returning-a-view-versus-a-copy\n",
      "  top_drugs['compound'] = top_drugs.apply(convert_compound, axis=1)\n"
     ]
    }
   ],
   "source": [
    "\"\"\"\n",
    "Function to convert the compound score so it is standardized between 0 and 1 for the Naive Bayes classifier\n",
    "\"\"\"\n",
    "def convert_compound(row):\n",
    "    if row['compound'] > 0.05:\n",
    "        return 1\n",
    "    elif row['compound'] >= -0.05 and row['compound'] <= 0.05:\n",
    "        return 0.5\n",
    "    else:\n",
    "        return 0\n",
    "    \n",
    "# convert compound score\n",
    "top_drugs['compound'] = top_drugs.apply(convert_compound, axis=1)"
   ]
  },
  {
   "cell_type": "code",
   "execution_count": 22,
   "id": "suspended-correction",
   "metadata": {},
   "outputs": [
    {
     "name": "stderr",
     "output_type": "stream",
     "text": [
      "<ipython-input-22-fc959edcbb56>:11: SettingWithCopyWarning: \n",
      "A value is trying to be set on a copy of a slice from a DataFrame.\n",
      "Try using .loc[row_indexer,col_indexer] = value instead\n",
      "\n",
      "See the caveats in the documentation: https://pandas.pydata.org/pandas-docs/stable/user_guide/indexing.html#returning-a-view-versus-a-copy\n",
      "  top_drugs['rating_binary'] = top_drugs.apply(convert_rating, axis=1)\n"
     ]
    }
   ],
   "source": [
    "\"\"\"\n",
    "Function to mark a drug as effective or not, dependent on the user rating\n",
    "\"\"\"\n",
    "def convert_rating(row):\n",
    "    if row['rating'] > 5:\n",
    "        return 1\n",
    "    else: \n",
    "        return 0\n",
    "\n",
    "# apply the effective drug function to add a new column for effectiveness\n",
    "top_drugs['rating_binary'] = top_drugs.apply(convert_rating, axis=1)"
   ]
  },
  {
   "cell_type": "code",
   "execution_count": 23,
   "id": "genetic-intent",
   "metadata": {},
   "outputs": [
    {
     "name": "stderr",
     "output_type": "stream",
     "text": [
      "<ipython-input-23-4531503d46e0>:8: SettingWithCopyWarning: \n",
      "A value is trying to be set on a copy of a slice from a DataFrame.\n",
      "Try using .loc[row_indexer,col_indexer] = value instead\n",
      "\n",
      "See the caveats in the documentation: https://pandas.pydata.org/pandas-docs/stable/user_guide/indexing.html#returning-a-view-versus-a-copy\n",
      "  top_drugs['word_count'] = top_drugs[\"review\"].apply(lambda x:count_words(x))\n"
     ]
    }
   ],
   "source": [
    "\"\"\"\n",
    "Function to count the number of words in a review\n",
    "\"\"\"\n",
    "def count_words(text):\n",
    "    return len(text.split())\n",
    "\n",
    "# apply the word count function\n",
    "top_drugs['word_count'] = top_drugs[\"review\"].apply(lambda x:count_words(x))"
   ]
  },
  {
   "cell_type": "code",
   "execution_count": 24,
   "id": "reduced-prison",
   "metadata": {},
   "outputs": [
    {
     "name": "stderr",
     "output_type": "stream",
     "text": [
      "<ipython-input-24-9977ecaa4cd9>:8: SettingWithCopyWarning: \n",
      "A value is trying to be set on a copy of a slice from a DataFrame.\n",
      "Try using .loc[row_indexer,col_indexer] = value instead\n",
      "\n",
      "See the caveats in the documentation: https://pandas.pydata.org/pandas-docs/stable/user_guide/indexing.html#returning-a-view-versus-a-copy\n",
      "  top_drugs['char_count'] = top_drugs[\"review\"].apply(lambda x: count_chars(x))\n"
     ]
    }
   ],
   "source": [
    "\"\"\"\n",
    "Function to count the number of characters in a review\n",
    "\"\"\"\n",
    "def count_chars(text):\n",
    "    return sum(len(word) for word in str(text).split(\" \"))\n",
    "\n",
    "# apply the character count function\n",
    "top_drugs['char_count'] = top_drugs[\"review\"].apply(lambda x: count_chars(x))"
   ]
  },
  {
   "cell_type": "code",
   "execution_count": 25,
   "id": "moved-playlist",
   "metadata": {},
   "outputs": [
    {
     "data": {
      "text/html": [
       "<div>\n",
       "<style scoped>\n",
       "    .dataframe tbody tr th:only-of-type {\n",
       "        vertical-align: middle;\n",
       "    }\n",
       "\n",
       "    .dataframe tbody tr th {\n",
       "        vertical-align: top;\n",
       "    }\n",
       "\n",
       "    .dataframe thead th {\n",
       "        text-align: right;\n",
       "    }\n",
       "</style>\n",
       "<table border=\"1\" class=\"dataframe\">\n",
       "  <thead>\n",
       "    <tr style=\"text-align: right;\">\n",
       "      <th></th>\n",
       "      <th>drugName</th>\n",
       "      <th>condition</th>\n",
       "      <th>review</th>\n",
       "      <th>rating</th>\n",
       "      <th>date</th>\n",
       "      <th>usefulCount</th>\n",
       "      <th>compound</th>\n",
       "      <th>rating_binary</th>\n",
       "      <th>word_count</th>\n",
       "      <th>char_count</th>\n",
       "    </tr>\n",
       "  </thead>\n",
       "  <tbody>\n",
       "    <tr>\n",
       "      <th>0</th>\n",
       "      <td>Mirtazapine</td>\n",
       "      <td>Depression</td>\n",
       "      <td>tried antidepressants years (citalopram, fluo...</td>\n",
       "      <td>10.0</td>\n",
       "      <td>February 28, 2012</td>\n",
       "      <td>22</td>\n",
       "      <td>1.0</td>\n",
       "      <td>1</td>\n",
       "      <td>39</td>\n",
       "      <td>272</td>\n",
       "    </tr>\n",
       "    <tr>\n",
       "      <th>3</th>\n",
       "      <td>Contrave</td>\n",
       "      <td>Weight Loss</td>\n",
       "      <td>Contrave combines drugs used alcohol, smoking...</td>\n",
       "      <td>9.0</td>\n",
       "      <td>March 5, 2017</td>\n",
       "      <td>35</td>\n",
       "      <td>1.0</td>\n",
       "      <td>1</td>\n",
       "      <td>67</td>\n",
       "      <td>395</td>\n",
       "    </tr>\n",
       "    <tr>\n",
       "      <th>4</th>\n",
       "      <td>Cyclafem 1 / 35</td>\n",
       "      <td>Birth Control</td>\n",
       "      <td>birth control one cycle. reading reviews type...</td>\n",
       "      <td>9.0</td>\n",
       "      <td>October 22, 2015</td>\n",
       "      <td>4</td>\n",
       "      <td>1.0</td>\n",
       "      <td>1</td>\n",
       "      <td>67</td>\n",
       "      <td>370</td>\n",
       "    </tr>\n",
       "    <tr>\n",
       "      <th>6</th>\n",
       "      <td>Copper</td>\n",
       "      <td>Birth Control</td>\n",
       "      <td>copper coil 3 months now. really excited thou...</td>\n",
       "      <td>6.0</td>\n",
       "      <td>June 6, 2016</td>\n",
       "      <td>1</td>\n",
       "      <td>0.0</td>\n",
       "      <td>1</td>\n",
       "      <td>59</td>\n",
       "      <td>316</td>\n",
       "    </tr>\n",
       "    <tr>\n",
       "      <th>9</th>\n",
       "      <td>Levora</td>\n",
       "      <td>Birth Control</td>\n",
       "      <td>pill almost two years. work far getting pregn...</td>\n",
       "      <td>2.0</td>\n",
       "      <td>April 16, 2011</td>\n",
       "      <td>3</td>\n",
       "      <td>0.0</td>\n",
       "      <td>0</td>\n",
       "      <td>45</td>\n",
       "      <td>244</td>\n",
       "    </tr>\n",
       "  </tbody>\n",
       "</table>\n",
       "</div>"
      ],
      "text/plain": [
       "          drugName      condition  \\\n",
       "0      Mirtazapine     Depression   \n",
       "3         Contrave    Weight Loss   \n",
       "4  Cyclafem 1 / 35  Birth Control   \n",
       "6           Copper  Birth Control   \n",
       "9           Levora  Birth Control   \n",
       "\n",
       "                                              review  rating  \\\n",
       "0   tried antidepressants years (citalopram, fluo...    10.0   \n",
       "3   Contrave combines drugs used alcohol, smoking...     9.0   \n",
       "4   birth control one cycle. reading reviews type...     9.0   \n",
       "6   copper coil 3 months now. really excited thou...     6.0   \n",
       "9   pill almost two years. work far getting pregn...     2.0   \n",
       "\n",
       "                date  usefulCount  compound  rating_binary  word_count  \\\n",
       "0  February 28, 2012           22       1.0              1          39   \n",
       "3      March 5, 2017           35       1.0              1          67   \n",
       "4   October 22, 2015            4       1.0              1          67   \n",
       "6       June 6, 2016            1       0.0              1          59   \n",
       "9     April 16, 2011            3       0.0              0          45   \n",
       "\n",
       "   char_count  \n",
       "0         272  \n",
       "3         395  \n",
       "4         370  \n",
       "6         316  \n",
       "9         244  "
      ]
     },
     "execution_count": 25,
     "metadata": {},
     "output_type": "execute_result"
    }
   ],
   "source": [
    "top_drugs.head()"
   ]
  },
  {
   "cell_type": "markdown",
   "id": "romantic-horizon",
   "metadata": {},
   "source": [
    "<a id='PP'></a>\n",
    "### Pre-Processing"
   ]
  },
  {
   "cell_type": "code",
   "execution_count": 26,
   "id": "pleased-selection",
   "metadata": {},
   "outputs": [],
   "source": [
    "from sklearn import preprocessing\n",
    "le = preprocessing.LabelEncoder()"
   ]
  },
  {
   "cell_type": "code",
   "execution_count": 27,
   "id": "backed-attendance",
   "metadata": {},
   "outputs": [
    {
     "data": {
      "text/html": [
       "<div>\n",
       "<style scoped>\n",
       "    .dataframe tbody tr th:only-of-type {\n",
       "        vertical-align: middle;\n",
       "    }\n",
       "\n",
       "    .dataframe tbody tr th {\n",
       "        vertical-align: top;\n",
       "    }\n",
       "\n",
       "    .dataframe thead th {\n",
       "        text-align: right;\n",
       "    }\n",
       "</style>\n",
       "<table border=\"1\" class=\"dataframe\">\n",
       "  <thead>\n",
       "    <tr style=\"text-align: right;\">\n",
       "      <th></th>\n",
       "      <th>drugName</th>\n",
       "      <th>condition</th>\n",
       "      <th>review</th>\n",
       "      <th>rating</th>\n",
       "      <th>date</th>\n",
       "      <th>usefulCount</th>\n",
       "      <th>compound</th>\n",
       "      <th>rating_binary</th>\n",
       "      <th>word_count</th>\n",
       "      <th>char_count</th>\n",
       "    </tr>\n",
       "  </thead>\n",
       "  <tbody>\n",
       "    <tr>\n",
       "      <th>0</th>\n",
       "      <td>Mirtazapine</td>\n",
       "      <td>Depression</td>\n",
       "      <td>tried antidepressants years (citalopram, fluo...</td>\n",
       "      <td>10.0</td>\n",
       "      <td>February 28, 2012</td>\n",
       "      <td>22</td>\n",
       "      <td>1.0</td>\n",
       "      <td>1</td>\n",
       "      <td>39</td>\n",
       "      <td>272</td>\n",
       "    </tr>\n",
       "    <tr>\n",
       "      <th>3</th>\n",
       "      <td>Contrave</td>\n",
       "      <td>Weight Loss</td>\n",
       "      <td>Contrave combines drugs used alcohol, smoking...</td>\n",
       "      <td>9.0</td>\n",
       "      <td>March 5, 2017</td>\n",
       "      <td>35</td>\n",
       "      <td>1.0</td>\n",
       "      <td>1</td>\n",
       "      <td>67</td>\n",
       "      <td>395</td>\n",
       "    </tr>\n",
       "    <tr>\n",
       "      <th>4</th>\n",
       "      <td>Cyclafem 1 / 35</td>\n",
       "      <td>Birth Control</td>\n",
       "      <td>birth control one cycle. reading reviews type...</td>\n",
       "      <td>9.0</td>\n",
       "      <td>October 22, 2015</td>\n",
       "      <td>4</td>\n",
       "      <td>1.0</td>\n",
       "      <td>1</td>\n",
       "      <td>67</td>\n",
       "      <td>370</td>\n",
       "    </tr>\n",
       "    <tr>\n",
       "      <th>6</th>\n",
       "      <td>Copper</td>\n",
       "      <td>Birth Control</td>\n",
       "      <td>copper coil 3 months now. really excited thou...</td>\n",
       "      <td>6.0</td>\n",
       "      <td>June 6, 2016</td>\n",
       "      <td>1</td>\n",
       "      <td>0.0</td>\n",
       "      <td>1</td>\n",
       "      <td>59</td>\n",
       "      <td>316</td>\n",
       "    </tr>\n",
       "    <tr>\n",
       "      <th>9</th>\n",
       "      <td>Levora</td>\n",
       "      <td>Birth Control</td>\n",
       "      <td>pill almost two years. work far getting pregn...</td>\n",
       "      <td>2.0</td>\n",
       "      <td>April 16, 2011</td>\n",
       "      <td>3</td>\n",
       "      <td>0.0</td>\n",
       "      <td>0</td>\n",
       "      <td>45</td>\n",
       "      <td>244</td>\n",
       "    </tr>\n",
       "  </tbody>\n",
       "</table>\n",
       "</div>"
      ],
      "text/plain": [
       "          drugName      condition  \\\n",
       "0      Mirtazapine     Depression   \n",
       "3         Contrave    Weight Loss   \n",
       "4  Cyclafem 1 / 35  Birth Control   \n",
       "6           Copper  Birth Control   \n",
       "9           Levora  Birth Control   \n",
       "\n",
       "                                              review  rating  \\\n",
       "0   tried antidepressants years (citalopram, fluo...    10.0   \n",
       "3   Contrave combines drugs used alcohol, smoking...     9.0   \n",
       "4   birth control one cycle. reading reviews type...     9.0   \n",
       "6   copper coil 3 months now. really excited thou...     6.0   \n",
       "9   pill almost two years. work far getting pregn...     2.0   \n",
       "\n",
       "                date  usefulCount  compound  rating_binary  word_count  \\\n",
       "0  February 28, 2012           22       1.0              1          39   \n",
       "3      March 5, 2017           35       1.0              1          67   \n",
       "4   October 22, 2015            4       1.0              1          67   \n",
       "6       June 6, 2016            1       0.0              1          59   \n",
       "9     April 16, 2011            3       0.0              0          45   \n",
       "\n",
       "   char_count  \n",
       "0         272  \n",
       "3         395  \n",
       "4         370  \n",
       "6         316  \n",
       "9         244  "
      ]
     },
     "execution_count": 27,
     "metadata": {},
     "output_type": "execute_result"
    }
   ],
   "source": [
    "# make a copy of the top drugs dataframe\n",
    "preprocessed_data = top_drugs.copy()\n",
    "\n",
    "preprocessed_data.head()"
   ]
  },
  {
   "cell_type": "code",
   "execution_count": 28,
   "id": "congressional-midwest",
   "metadata": {},
   "outputs": [
    {
     "name": "stdout",
     "output_type": "stream",
     "text": [
      "121\n"
     ]
    }
   ],
   "source": [
    "import collections\n",
    "# remove single instances of drugs from the preprocessed data \n",
    "singles = preprocessed_data['drugName']\n",
    "single = collections.Counter(singles)\n",
    "min_threshold = 1\n",
    "ones = {x: count for x, count in single.items() if count <= min_threshold}\n",
    "print(len(ones))\n",
    "one_keys = list(ones.keys())\n",
    "preprocessed_data = preprocessed_data[~preprocessed_data['drugName'].isin(one_keys)]"
   ]
  },
  {
   "cell_type": "code",
   "execution_count": 29,
   "id": "going-niger",
   "metadata": {},
   "outputs": [],
   "source": [
    "# fit the condition to the label encoder \n",
    "le.fit(preprocessed_data['condition'])\n",
    "numerical_condition = le.transform(preprocessed_data['condition'])\n",
    "# define numerical condition as transformation of encoder \n",
    "preprocessed_data['numericalCondition'] = numerical_condition\n",
    "# fit the drug name to the label encoder \n",
    "le.fit(preprocessed_data['drugName'])\n",
    "numerical_drug_name = le.transform(preprocessed_data['drugName'])\n",
    "# define numerical drug name as transformation of encoder \n",
    "preprocessed_data['numericalDrugName'] = numerical_drug_name\n",
    "# fit the compound to the label encoder \n",
    "le.fit(preprocessed_data['compound'])\n",
    "compound_class = le.transform(preprocessed_data['compound'])\n",
    "# define compound as transformation of encoder \n",
    "preprocessed_data['compound'] = compound_class\n",
    "# fit the rating to the label encoder \n",
    "le.fit(preprocessed_data['rating'])\n",
    "rating_class = le.transform(preprocessed_data['rating'])\n",
    "# define rating as transformation of encoder \n",
    "preprocessed_data['rating'] = rating_class"
   ]
  },
  {
   "cell_type": "code",
   "execution_count": 30,
   "id": "consolidated-chart",
   "metadata": {},
   "outputs": [],
   "source": [
    "# make a copy of the preprocessed data to use for binary tasks and naive bayes\n",
    "preprocessed_data_binary = preprocessed_data.copy()\n",
    "preprocessed_data_binary_nb = preprocessed_data.copy()\n",
    "preprocessed_data_nb = preprocessed_data.copy()\n",
    "\n",
    "# drop unnecessary columns \n",
    "preprocessed_data.drop(columns=['drugName', 'condition', 'review', 'date', 'rating_binary'], inplace=True)\n",
    "preprocessed_data_nb.drop(columns=['drugName', 'condition', 'review', 'date', 'rating_binary'], inplace=True)\n",
    "\n",
    "preprocessed_data_binary.drop(columns=['drugName', 'condition', 'review', 'date', 'rating'], inplace=True)\n",
    "preprocessed_data_binary_nb.drop(columns=['drugName', 'condition', 'review', 'date', 'rating'], inplace=True)"
   ]
  },
  {
   "cell_type": "code",
   "execution_count": 31,
   "id": "immediate-round",
   "metadata": {},
   "outputs": [
    {
     "data": {
      "text/html": [
       "<div>\n",
       "<style scoped>\n",
       "    .dataframe tbody tr th:only-of-type {\n",
       "        vertical-align: middle;\n",
       "    }\n",
       "\n",
       "    .dataframe tbody tr th {\n",
       "        vertical-align: top;\n",
       "    }\n",
       "\n",
       "    .dataframe thead th {\n",
       "        text-align: right;\n",
       "    }\n",
       "</style>\n",
       "<table border=\"1\" class=\"dataframe\">\n",
       "  <thead>\n",
       "    <tr style=\"text-align: right;\">\n",
       "      <th></th>\n",
       "      <th>rating</th>\n",
       "      <th>usefulCount</th>\n",
       "      <th>compound</th>\n",
       "      <th>word_count</th>\n",
       "      <th>char_count</th>\n",
       "      <th>numericalCondition</th>\n",
       "      <th>numericalDrugName</th>\n",
       "    </tr>\n",
       "  </thead>\n",
       "  <tbody>\n",
       "    <tr>\n",
       "      <th>0</th>\n",
       "      <td>9</td>\n",
       "      <td>22</td>\n",
       "      <td>2</td>\n",
       "      <td>39</td>\n",
       "      <td>272</td>\n",
       "      <td>5</td>\n",
       "      <td>400</td>\n",
       "    </tr>\n",
       "    <tr>\n",
       "      <th>3</th>\n",
       "      <td>8</td>\n",
       "      <td>35</td>\n",
       "      <td>2</td>\n",
       "      <td>67</td>\n",
       "      <td>395</td>\n",
       "      <td>9</td>\n",
       "      <td>147</td>\n",
       "    </tr>\n",
       "    <tr>\n",
       "      <th>4</th>\n",
       "      <td>8</td>\n",
       "      <td>4</td>\n",
       "      <td>2</td>\n",
       "      <td>67</td>\n",
       "      <td>370</td>\n",
       "      <td>4</td>\n",
       "      <td>150</td>\n",
       "    </tr>\n",
       "    <tr>\n",
       "      <th>6</th>\n",
       "      <td>5</td>\n",
       "      <td>1</td>\n",
       "      <td>0</td>\n",
       "      <td>59</td>\n",
       "      <td>316</td>\n",
       "      <td>4</td>\n",
       "      <td>148</td>\n",
       "    </tr>\n",
       "    <tr>\n",
       "      <th>9</th>\n",
       "      <td>1</td>\n",
       "      <td>3</td>\n",
       "      <td>0</td>\n",
       "      <td>45</td>\n",
       "      <td>244</td>\n",
       "      <td>4</td>\n",
       "      <td>324</td>\n",
       "    </tr>\n",
       "  </tbody>\n",
       "</table>\n",
       "</div>"
      ],
      "text/plain": [
       "   rating  usefulCount  compound  word_count  char_count  numericalCondition  \\\n",
       "0       9           22         2          39         272                   5   \n",
       "3       8           35         2          67         395                   9   \n",
       "4       8            4         2          67         370                   4   \n",
       "6       5            1         0          59         316                   4   \n",
       "9       1            3         0          45         244                   4   \n",
       "\n",
       "   numericalDrugName  \n",
       "0                400  \n",
       "3                147  \n",
       "4                150  \n",
       "6                148  \n",
       "9                324  "
      ]
     },
     "execution_count": 31,
     "metadata": {},
     "output_type": "execute_result"
    }
   ],
   "source": [
    "preprocessed_data.head()"
   ]
  },
  {
   "cell_type": "code",
   "execution_count": 32,
   "id": "large-owner",
   "metadata": {},
   "outputs": [
    {
     "data": {
      "text/html": [
       "<div>\n",
       "<style scoped>\n",
       "    .dataframe tbody tr th:only-of-type {\n",
       "        vertical-align: middle;\n",
       "    }\n",
       "\n",
       "    .dataframe tbody tr th {\n",
       "        vertical-align: top;\n",
       "    }\n",
       "\n",
       "    .dataframe thead th {\n",
       "        text-align: right;\n",
       "    }\n",
       "</style>\n",
       "<table border=\"1\" class=\"dataframe\">\n",
       "  <thead>\n",
       "    <tr style=\"text-align: right;\">\n",
       "      <th></th>\n",
       "      <th>usefulCount</th>\n",
       "      <th>compound</th>\n",
       "      <th>rating_binary</th>\n",
       "      <th>word_count</th>\n",
       "      <th>char_count</th>\n",
       "      <th>numericalCondition</th>\n",
       "      <th>numericalDrugName</th>\n",
       "    </tr>\n",
       "  </thead>\n",
       "  <tbody>\n",
       "    <tr>\n",
       "      <th>0</th>\n",
       "      <td>22</td>\n",
       "      <td>2</td>\n",
       "      <td>1</td>\n",
       "      <td>39</td>\n",
       "      <td>272</td>\n",
       "      <td>5</td>\n",
       "      <td>400</td>\n",
       "    </tr>\n",
       "    <tr>\n",
       "      <th>3</th>\n",
       "      <td>35</td>\n",
       "      <td>2</td>\n",
       "      <td>1</td>\n",
       "      <td>67</td>\n",
       "      <td>395</td>\n",
       "      <td>9</td>\n",
       "      <td>147</td>\n",
       "    </tr>\n",
       "    <tr>\n",
       "      <th>4</th>\n",
       "      <td>4</td>\n",
       "      <td>2</td>\n",
       "      <td>1</td>\n",
       "      <td>67</td>\n",
       "      <td>370</td>\n",
       "      <td>4</td>\n",
       "      <td>150</td>\n",
       "    </tr>\n",
       "    <tr>\n",
       "      <th>6</th>\n",
       "      <td>1</td>\n",
       "      <td>0</td>\n",
       "      <td>1</td>\n",
       "      <td>59</td>\n",
       "      <td>316</td>\n",
       "      <td>4</td>\n",
       "      <td>148</td>\n",
       "    </tr>\n",
       "    <tr>\n",
       "      <th>9</th>\n",
       "      <td>3</td>\n",
       "      <td>0</td>\n",
       "      <td>0</td>\n",
       "      <td>45</td>\n",
       "      <td>244</td>\n",
       "      <td>4</td>\n",
       "      <td>324</td>\n",
       "    </tr>\n",
       "  </tbody>\n",
       "</table>\n",
       "</div>"
      ],
      "text/plain": [
       "   usefulCount  compound  rating_binary  word_count  char_count  \\\n",
       "0           22         2              1          39         272   \n",
       "3           35         2              1          67         395   \n",
       "4            4         2              1          67         370   \n",
       "6            1         0              1          59         316   \n",
       "9            3         0              0          45         244   \n",
       "\n",
       "   numericalCondition  numericalDrugName  \n",
       "0                   5                400  \n",
       "3                   9                147  \n",
       "4                   4                150  \n",
       "6                   4                148  \n",
       "9                   4                324  "
      ]
     },
     "execution_count": 32,
     "metadata": {},
     "output_type": "execute_result"
    }
   ],
   "source": [
    "preprocessed_data_binary.head()"
   ]
  },
  {
   "cell_type": "markdown",
   "id": "important-mobility",
   "metadata": {},
   "source": [
    "<a id='Exports'></a>\n",
    "### Exports "
   ]
  },
  {
   "cell_type": "code",
   "execution_count": 33,
   "id": "confirmed-luther",
   "metadata": {},
   "outputs": [],
   "source": [
    "# save the final cleaned top drugs df as a csv copy \n",
    "top_drugs.to_csv('top_drugs.csv', index=False)\n",
    "\n",
    "# save the multi class preprocessed df as a csv copy \n",
    "preprocessed_data.to_csv('preprocessed_data.csv', index=False)\n",
    "\n",
    "# save the multi class non-negative preprocessed df as a csv copy \n",
    "preprocessed_data_nb.to_csv('preprocessed_data_nb.csv', index=False)\n",
    "\n",
    "# save the binary preprocessed df as a csv copy \n",
    "preprocessed_data_binary.to_csv('preprocessed_data_binary.csv', index=False)\n",
    "\n",
    "# save the binary non-negative preprocessed df as a csv copy \n",
    "preprocessed_data_binary_nb.to_csv('preprocessed_data_binary_nb.csv', index=False)"
   ]
  }
 ],
 "metadata": {
  "kernelspec": {
   "display_name": "Python 3",
   "language": "python",
   "name": "python3"
  },
  "language_info": {
   "codemirror_mode": {
    "name": "ipython",
    "version": 3
   },
   "file_extension": ".py",
   "mimetype": "text/x-python",
   "name": "python",
   "nbconvert_exporter": "python",
   "pygments_lexer": "ipython3",
   "version": "3.8.5"
  }
 },
 "nbformat": 4,
 "nbformat_minor": 5
}
